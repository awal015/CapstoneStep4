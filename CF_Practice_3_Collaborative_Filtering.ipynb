{
  "metadata": {
    "kernelspec": {
      "language": "python",
      "display_name": "Python 3",
      "name": "python3"
    },
    "language_info": {
      "pygments_lexer": "ipython3",
      "nbconvert_exporter": "python",
      "version": "3.6.4",
      "file_extension": ".py",
      "codemirror_mode": {
        "name": "ipython",
        "version": 3
      },
      "name": "python",
      "mimetype": "text/x-python"
    },
    "kaggle": {
      "accelerator": "none",
      "dataSources": [
        {
          "sourceId": 6663,
          "sourceType": "datasetVersion",
          "datasetId": 3405
        },
        {
          "sourceId": 3055483,
          "sourceType": "datasetVersion",
          "datasetId": 1870426
        },
        {
          "sourceId": 5459636,
          "sourceType": "datasetVersion",
          "datasetId": 3154623
        }
      ],
      "dockerImageVersionId": 30396,
      "isInternetEnabled": false,
      "language": "python",
      "sourceType": "notebook",
      "isGpuEnabled": false
    },
    "colab": {
      "name": "CF Practice 3: Collaborative Filtering",
      "provenance": [],
      "include_colab_link": true
    }
  },
  "nbformat_minor": 0,
  "nbformat": 4,
  "cells": [
    {
      "cell_type": "markdown",
      "metadata": {
        "id": "view-in-github",
        "colab_type": "text"
      },
      "source": [
        "<a href=\"https://colab.research.google.com/github/awal015/CapstoneStep4/blob/main/CF_Practice_3_Collaborative_Filtering.ipynb\" target=\"_parent\"><img src=\"https://colab.research.google.com/assets/colab-badge.svg\" alt=\"Open In Colab\"/></a>"
      ]
    },
    {
      "source": [
        "# IMPORTANT: RUN THIS CELL IN ORDER TO IMPORT YOUR KAGGLE DATA SOURCES,\n",
        "# THEN FEEL FREE TO DELETE THIS CELL.\n",
        "# NOTE: THIS NOTEBOOK ENVIRONMENT DIFFERS FROM KAGGLE'S PYTHON\n",
        "# ENVIRONMENT SO THERE MAY BE MISSING LIBRARIES USED BY YOUR\n",
        "# NOTEBOOK.\n",
        "import kagglehub\n",
        "rounakbanik_the_movies_dataset_path = kagglehub.dataset_download('rounakbanik/the-movies-dataset')\n",
        "threnjen_board_games_database_from_boardgamegeek_path = kagglehub.dataset_download('threnjen/board-games-database-from-boardgamegeek')\n",
        "benhermangamingcom_game_ratings_from_one_user_path = kagglehub.dataset_download('benhermangamingcom/game-ratings-from-one-user')\n",
        "\n",
        "print('Data source import complete.')\n"
      ],
      "metadata": {
        "id": "Tk0zUj1uq7Af"
      },
      "cell_type": "code",
      "outputs": [],
      "execution_count": null
    },
    {
      "cell_type": "code",
      "source": [
        "# This Python 3 environment comes with many helpful analytics libraries installed\n",
        "# It is defined by the kaggle/python Docker image: https://github.com/kaggle/docker-python\n",
        "# For example, here's several helpful packages to load\n",
        "\n",
        "import numpy as np # linear algebra\n",
        "import pandas as pd # data processing, CSV file I/O (e.g. pd.read_csv)\n",
        "import math\n",
        "from matplotlib import pyplot as plt\n",
        "\n",
        "# Input data files are available in the read-only \"../input/\" directory\n",
        "# For example, running this (by clicking run or pressing Shift+Enter) will list all files under the input directory\n",
        "\n",
        "import os\n",
        "for dirname, _, filenames in os.walk('/kaggle/input'):\n",
        "    for filename in filenames:\n",
        "        os.path.join(dirname, filename)\n",
        "\n",
        "from fastai.collab import *\n",
        "from fastai.tabular.all import *\n",
        "\n",
        "\n",
        "def swap_columns(df, col1, col2):\n",
        "    col_list = list(df.columns)\n",
        "    x, y = col_list.index(col1), col_list.index(col2)\n",
        "    col_list[y], col_list[x] = col_list[x], col_list[y]\n",
        "    df = df[col_list]\n",
        "    return df"
      ],
      "metadata": {
        "_uuid": "8f2839f25d086af736a60e9eeb907d3b93b6e0e5",
        "_cell_guid": "b1076dfc-b9ad-4769-8c92-a6c4dae69d19",
        "trusted": true,
        "id": "dtOQ_36iq7Ag"
      },
      "execution_count": null,
      "outputs": []
    },
    {
      "cell_type": "code",
      "source": [
        "ratingsImported = pd.read_csv('../input/board-games-database-from-boardgamegeek/user_ratings.csv')\n",
        "ratingsImported = ratingsImported.sample(n=1000000)\n",
        "singleRatingsImported = pd.read_csv('../input/Game-Ratings-From-One-User/Game Ratings Form 1 User.csv')\n",
        "BGGId = pd.read_csv('../input/board-games-database-from-boardgamegeek/games.csv', usecols=(0,1)).drop_duplicates(\"Name\")\n",
        "descriptions = pd.read_csv('../input/board-games-database-from-boardgamegeek/games.csv', usecols=(1,2)).drop_duplicates(\"Name\")"
      ],
      "metadata": {
        "trusted": true,
        "id": "uLUUNBsjq7Ah"
      },
      "execution_count": null,
      "outputs": []
    },
    {
      "cell_type": "code",
      "source": [
        "def getUserData():\n",
        "    array = pd.DataFrame({\"Username\":[], \"Name\":[], \"Rating\":[]})\n",
        "    while input(\"do you want to input more data (y/n): \") == \"y\":\n",
        "        gameName = None\n",
        "        while (not gameName in set(BGGId['Name'])):\n",
        "            if gameName != None:\n",
        "                print(\"could not find that game on the list, please try again\")\n",
        "            gameName = input(\"please input the name of the game you want to rate: \")\n",
        "        gameRating  = int(input(\"please input the rating of the game 1-10: \"))\n",
        "        array = array.append({\"Username\":\"OurUser\", \"Name\":gameName, \"Rating\":gameRating}, ignore_index=True)\n",
        "    return array"
      ],
      "metadata": {
        "trusted": true,
        "id": "LypoFybbq7Ah"
      },
      "execution_count": null,
      "outputs": []
    },
    {
      "cell_type": "code",
      "source": [
        "singleRatings = getUserData()\n",
        "singleRatings = singleRatings.merge(BGGId)\n",
        "singleRatings = swap_columns(singleRatings, 'BGGId', 'Name')\n",
        "singleRatings"
      ],
      "metadata": {
        "trusted": true,
        "id": "Q1NWi8fCq7Ah"
      },
      "execution_count": null,
      "outputs": []
    },
    {
      "cell_type": "code",
      "source": [
        "singleRatings = singleRatingsImported.copy()\n",
        "singleRatings = singleRatings.rename(columns={'Game':'Name'})\n",
        "singleRatings = singleRatings.rename(columns={'Happy Rating':'Rating'})\n",
        "singleRatings = singleRatings.merge(BGGId)\n",
        "\n",
        "singleRatings = swap_columns(singleRatings, 'BGGId', 'Name')\n",
        "\n",
        "singleRatings = singleRatings.rename(columns={'Moody Rating':'Username'})\n",
        "singleRatings['Username'] = 'OurUser'\n",
        "singleRatings['Rating'] = singleRatings['Rating'].astype(float)\n",
        "\n",
        "singleRatings = swap_columns(singleRatings, 'Username', 'BGGId')\n",
        "singleRatings = swap_columns(singleRatings, 'Rating', 'BGGId')\n",
        "\n",
        "\n",
        "ratings = ratingsImported.copy()\n",
        "ratings = ratings.merge(BGGId)\n",
        "\n",
        "ratings = swap_columns(ratings, 'Username', 'BGGId')\n",
        "ratings = swap_columns(ratings, 'Rating', 'BGGId')\n",
        "\n",
        "\n",
        "size = ratings.groupby(ratings['Username'], as_index=False).size()\n",
        "ratings = ratings.merge(size)\n",
        "\n",
        "m = ratings['size'].quantile(0.95)\n",
        "#m = 6\n",
        "ratings = ratings.loc[ratings['size'] > m]\n",
        "\n",
        "ratings = ratings.drop(['size'], axis=1)\n",
        "\n",
        "ratings = singleRatings.append(ratings, ignore_index=True)\n",
        "\n",
        "\n",
        "labels, uniques = pd.factorize(ratings['Username'])\n",
        "usernameToUserID = pd.DataFrame(data = ratings['Username'].copy())\n",
        "usernameToUserID['UserID'] = labels\n",
        "usernameToUserID = usernameToUserID.drop_duplicates()\n",
        "\n",
        "ratings['Username'] = labels\n",
        "ratings = ratings.rename(columns={'Username':'UserID'})"
      ],
      "metadata": {
        "trusted": true,
        "id": "CCU3dEBWq7Ai"
      },
      "execution_count": null,
      "outputs": []
    },
    {
      "cell_type": "code",
      "source": [
        "m"
      ],
      "metadata": {
        "trusted": true,
        "id": "g80oHVLiq7Ai"
      },
      "execution_count": null,
      "outputs": []
    },
    {
      "cell_type": "code",
      "source": [
        "ratings"
      ],
      "metadata": {
        "trusted": true,
        "id": "a0vW4aROq7Ai"
      },
      "execution_count": null,
      "outputs": []
    },
    {
      "cell_type": "code",
      "source": [
        "dls = CollabDataLoaders.from_df(ratings, item_name='Name', bs=64)\n",
        "learn = collab_learner(dls, n_factors=20, y_range=(0, 13))\n",
        "\n",
        "#The function below is based heavily on the code from Dhruv Metha, shown at\n",
        "#https://forums.fast.ai/t/collaborative-filtering-predict-inference-part-1-2020/90240/3\n",
        "def get_rating(learn, user):\n",
        "    if type(user) == str:\n",
        "        user = usernameToUserID[usernameToUserID['Username'] == 'OurUser']['UserID'][0].item()\n",
        "    with torch.no_grad():\n",
        "        games = torch.arange(learn.model.i_weight.num_embeddings)\n",
        "        users = tensor([user])\n",
        "        try:\n",
        "            dot = learn.u_weight(users).unsqueeze(1) * learn.i_weight(games)\n",
        "            res = dot.sum(-1) + learn.u_bias(users) + learn.i_bias(games).squeeze()\n",
        "            return (torch.sigmoid(res) * (learn.y_range[1]-learn.y_range[0]) + learn.y_range[0])[0]\n",
        "        except:\n",
        "            print('User not recognized')"
      ],
      "metadata": {
        "trusted": true,
        "id": "VjHfWslTq7Ai"
      },
      "execution_count": null,
      "outputs": []
    },
    {
      "cell_type": "code",
      "source": [
        "learn.fit_one_cycle(3, 5e-3, wd=0.1)\n",
        "movie_bias = learn.model.i_bias.weight.squeeze()\n",
        "idxs = movie_bias.argsort(descending=True)[:5]\n",
        "[dls.classes['Name'][i] for i in idxs]"
      ],
      "metadata": {
        "trusted": true,
        "id": "VOGVC0Ohq7Aj"
      },
      "execution_count": null,
      "outputs": []
    },
    {
      "cell_type": "code",
      "source": [
        "learn.recorder.plot_loss()"
      ],
      "metadata": {
        "trusted": true,
        "id": "fWhFS0cUq7Aj"
      },
      "execution_count": null,
      "outputs": []
    },
    {
      "cell_type": "code",
      "source": [
        "def printPredictions(user):\n",
        "    def printIndexs(indexs, printCount = 20):\n",
        "        print('----------------------------------------------------------------------------------------------------')\n",
        "        i = 0\n",
        "        while i < printCount:\n",
        "            index = indexs[i]\n",
        "            if (dls.classes['Name'][index] in singleRatings[\"Name\"]):\n",
        "                continue\n",
        "            i+=1\n",
        "            print('')\n",
        "            print(\" \",\n",
        "                  dls.classes['Name'][index], \":\",\n",
        "                  math.floor(predictions.numpy()[index]*10)/10\n",
        "                 )\n",
        "            print(descriptions.loc[descriptions['Name'] == dls.classes['Name'][index]]['Description'])\n",
        "            print('----------------------------------------------------------------------------------------------------')\n",
        "    predictions = get_rating(learn, user)\n",
        "    indexs = predictions.argsort(descending=True)\n",
        "    print(\"I think you will like:\")\n",
        "    printIndexs(indexs, 10)\n",
        "    print(\"\")\n",
        "    indexs = predictions.argsort(descending=False)\n",
        "    print(\"I dont think you will like:\")\n",
        "    printIndexs(indexs, 10)"
      ],
      "metadata": {
        "trusted": true,
        "id": "p_F_jMi2q7Aj"
      },
      "execution_count": null,
      "outputs": []
    },
    {
      "cell_type": "code",
      "source": [
        "printPredictions(0)"
      ],
      "metadata": {
        "execution": {
          "iopub.status.busy": "2023-04-27T16:56:29.857832Z",
          "iopub.execute_input": "2023-04-27T16:56:29.858264Z",
          "iopub.status.idle": "2023-04-27T16:56:29.944402Z",
          "shell.execute_reply.started": "2023-04-27T16:56:29.858227Z",
          "shell.execute_reply": "2023-04-27T16:56:29.943029Z"
        },
        "trusted": true,
        "id": "3rPK30grq7Aj"
      },
      "execution_count": null,
      "outputs": []
    },
    {
      "cell_type": "code",
      "source": [],
      "metadata": {
        "id": "4XcBBn0nq7Aj"
      },
      "execution_count": null,
      "outputs": []
    },
    {
      "cell_type": "code",
      "source": [],
      "metadata": {
        "id": "nzFxhlgDq7Ak"
      },
      "execution_count": null,
      "outputs": []
    }
  ]
}