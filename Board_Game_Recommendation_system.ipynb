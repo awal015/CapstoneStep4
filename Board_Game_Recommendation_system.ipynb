{
  "metadata": {
    "kernelspec": {
      "language": "python",
      "display_name": "Python 3",
      "name": "python3"
    },
    "language_info": {
      "pygments_lexer": "ipython3",
      "nbconvert_exporter": "python",
      "version": "3.6.4",
      "file_extension": ".py",
      "codemirror_mode": {
        "name": "ipython",
        "version": 3
      },
      "name": "python",
      "mimetype": "text/x-python"
    },
    "kaggle": {
      "accelerator": "none",
      "dataSources": [
        {
          "sourceId": 3055483,
          "sourceType": "datasetVersion",
          "datasetId": 1870426
        }
      ],
      "dockerImageVersionId": 30170,
      "isInternetEnabled": false,
      "language": "python",
      "sourceType": "notebook",
      "isGpuEnabled": false
    },
    "colab": {
      "name": "Board Game - Recommendation system",
      "provenance": [],
      "include_colab_link": true
    }
  },
  "nbformat_minor": 0,
  "nbformat": 4,
  "cells": [
    {
      "cell_type": "markdown",
      "metadata": {
        "id": "view-in-github",
        "colab_type": "text"
      },
      "source": [
        "<a href=\"https://colab.research.google.com/github/awal015/CapstoneStep4/blob/main/Board_Game_Recommendation_system.ipynb\" target=\"_parent\"><img src=\"https://colab.research.google.com/assets/colab-badge.svg\" alt=\"Open In Colab\"/></a>"
      ]
    },
    {
      "source": [
        "# IMPORTANT: RUN THIS CELL IN ORDER TO IMPORT YOUR KAGGLE DATA SOURCES,\n",
        "# THEN FEEL FREE TO DELETE THIS CELL.\n",
        "# NOTE: THIS NOTEBOOK ENVIRONMENT DIFFERS FROM KAGGLE'S PYTHON\n",
        "# ENVIRONMENT SO THERE MAY BE MISSING LIBRARIES USED BY YOUR\n",
        "# NOTEBOOK.\n",
        "import kagglehub\n",
        "threnjen_board_games_database_from_boardgamegeek_path = kagglehub.dataset_download('threnjen/board-games-database-from-boardgamegeek')\n",
        "\n",
        "print('Data source import complete.')\n"
      ],
      "metadata": {
        "colab": {
          "base_uri": "https://localhost:8080/"
        },
        "id": "P66bOvLjmCKE",
        "outputId": "b88f1fdd-867b-44bc-acd1-cb1b3977e7a7"
      },
      "cell_type": "code",
      "outputs": [
        {
          "output_type": "stream",
          "name": "stdout",
          "text": [
            "Downloading from https://www.kaggle.com/api/v1/datasets/download/threnjen/board-games-database-from-boardgamegeek?dataset_version_number=4...\n"
          ]
        },
        {
          "output_type": "stream",
          "name": "stderr",
          "text": [
            "100%|██████████| 148M/148M [00:07<00:00, 20.0MB/s]"
          ]
        },
        {
          "output_type": "stream",
          "name": "stdout",
          "text": [
            "Extracting files...\n"
          ]
        },
        {
          "output_type": "stream",
          "name": "stderr",
          "text": [
            "\n"
          ]
        },
        {
          "output_type": "stream",
          "name": "stdout",
          "text": [
            "Data source import complete.\n"
          ]
        }
      ],
      "execution_count": 1
    },
    {
      "cell_type": "markdown",
      "source": [
        "** $Board\\ Game\\ Database\\ from\\ Board\\ GameGeek$**"
      ],
      "metadata": {
        "id": "2n60GI6gbLq2"
      }
    },
    {
      "cell_type": "markdown",
      "source": [
        "# $General\\ Overview$"
      ],
      "metadata": {
        "id": "yIpSwvHzhFfB"
      }
    },
    {
      "cell_type": "markdown",
      "source": [
        "### Dataset\n",
        "\n",
        "* Data was taken from Kaggle - https://www.kaggle.com/threnjen/board-games-database-from-boardgamegeek?select=user_ratings.csv\n",
        "* This dataset Feature-rich multi-table dataset full of interesting information about Board Games which can be used for tasks such as exploratory EDA, predictive modeling, or recommender systems.\n"
      ],
      "metadata": {
        "id": "Fmp17B2deYcV"
      }
    },
    {
      "cell_type": "markdown",
      "source": [
        "### Project Modules & Packages"
      ],
      "metadata": {
        "id": "h3hTcb1_S9H6"
      }
    },
    {
      "cell_type": "code",
      "source": [
        "!pip install FuzzyWuzzy\n",
        "!pip install surprise"
      ],
      "metadata": {
        "id": "PyibW3UcQBMy",
        "outputId": "5fbc5eac-5f6e-4bfb-b8b4-4481ba1259a3",
        "execution": {
          "iopub.status.busy": "2022-03-13T11:35:31.549348Z",
          "iopub.execute_input": "2022-03-13T11:35:31.549604Z",
          "iopub.status.idle": "2022-03-13T11:35:51.880694Z",
          "shell.execute_reply.started": "2022-03-13T11:35:31.549575Z",
          "shell.execute_reply": "2022-03-13T11:35:51.879406Z"
        },
        "trusted": true,
        "colab": {
          "base_uri": "https://localhost:8080/"
        }
      },
      "execution_count": 2,
      "outputs": [
        {
          "output_type": "stream",
          "name": "stdout",
          "text": [
            "Collecting FuzzyWuzzy\n",
            "  Downloading fuzzywuzzy-0.18.0-py2.py3-none-any.whl.metadata (4.9 kB)\n",
            "Downloading fuzzywuzzy-0.18.0-py2.py3-none-any.whl (18 kB)\n",
            "Installing collected packages: FuzzyWuzzy\n",
            "Successfully installed FuzzyWuzzy-0.18.0\n",
            "Collecting surprise\n",
            "  Downloading surprise-0.1-py2.py3-none-any.whl.metadata (327 bytes)\n",
            "Collecting scikit-surprise (from surprise)\n",
            "  Downloading scikit_surprise-1.1.4.tar.gz (154 kB)\n",
            "\u001b[2K     \u001b[90m━━━━━━━━━━━━━━━━━━━━━━━━━━━━━━━━━━━━━━━━\u001b[0m \u001b[32m154.4/154.4 kB\u001b[0m \u001b[31m2.8 MB/s\u001b[0m eta \u001b[36m0:00:00\u001b[0m\n",
            "\u001b[?25h  Installing build dependencies ... \u001b[?25l\u001b[?25hdone\n",
            "  Getting requirements to build wheel ... \u001b[?25l\u001b[?25hdone\n",
            "  Preparing metadata (pyproject.toml) ... \u001b[?25l\u001b[?25hdone\n",
            "Requirement already satisfied: joblib>=1.2.0 in /usr/local/lib/python3.10/dist-packages (from scikit-surprise->surprise) (1.4.2)\n",
            "Requirement already satisfied: numpy>=1.19.5 in /usr/local/lib/python3.10/dist-packages (from scikit-surprise->surprise) (1.26.4)\n",
            "Requirement already satisfied: scipy>=1.6.0 in /usr/local/lib/python3.10/dist-packages (from scikit-surprise->surprise) (1.13.1)\n",
            "Downloading surprise-0.1-py2.py3-none-any.whl (1.8 kB)\n",
            "Building wheels for collected packages: scikit-surprise\n",
            "  Building wheel for scikit-surprise (pyproject.toml) ... \u001b[?25l\u001b[?25hdone\n",
            "  Created wheel for scikit-surprise: filename=scikit_surprise-1.1.4-cp310-cp310-linux_x86_64.whl size=2357286 sha256=a4bfc59bc8b25cc6db71bf8097f7b6dcb91231946f5d941c336801a8d0d267e9\n",
            "  Stored in directory: /root/.cache/pip/wheels/4b/3f/df/6acbf0a40397d9bf3ff97f582cc22fb9ce66adde75bc71fd54\n",
            "Successfully built scikit-surprise\n",
            "Installing collected packages: scikit-surprise, surprise\n",
            "Successfully installed scikit-surprise-1.1.4 surprise-0.1\n"
          ]
        }
      ]
    },
    {
      "cell_type": "code",
      "source": [
        "import pandas as pd\n",
        "import matplotlib.pyplot as plt\n",
        "\n",
        "from sklearn.linear_model import LogisticRegression\n",
        "from sklearn.metrics import confusion_matrix, classification_report, accuracy_score ,f1_score ,roc_auc_score ,log_loss\n",
        "from sklearn.model_selection import train_test_split, cross_val_score, GridSearchCV ,StratifiedKFold\n",
        "from sklearn.tree import DecisionTreeClassifier\n",
        "from sklearn.ensemble import RandomForestClassifier\n",
        "import warnings\n",
        "import seaborn as sns\n",
        "import matplotlib.pyplot as plt\n",
        "import numpy as np\n",
        "\n",
        "warnings.filterwarnings('ignore')\n",
        "%matplotlib inline\n",
        "\n",
        "from scipy.sparse import csr_matrix\n",
        "from sklearn.neighbors import NearestNeighbors\n",
        "from fuzzywuzzy import process\n",
        "\n",
        "from scipy.spatial import distance\n",
        "\n",
        "from surprise import Reader\n",
        "from surprise import Dataset\n",
        "from surprise.model_selection import cross_validate\n",
        "from surprise import NormalPredictor\n",
        "from surprise import KNNBasic\n",
        "from surprise import KNNWithMeans\n",
        "from surprise import KNNWithZScore\n",
        "from surprise import KNNBaseline\n",
        "from surprise import SVD\n",
        "from surprise import BaselineOnly\n",
        "from surprise import SVDpp\n",
        "from surprise import NMF\n",
        "from surprise import SlopeOne\n",
        "from surprise import CoClustering\n",
        "from surprise.accuracy import rmse\n",
        "from surprise import accuracy\n",
        "from surprise.model_selection import train_test_split as sup_tt_split"
      ],
      "metadata": {
        "id": "6h5YpFNV24Qr",
        "execution": {
          "iopub.status.busy": "2022-03-13T11:35:51.883508Z",
          "iopub.execute_input": "2022-03-13T11:35:51.883757Z",
          "iopub.status.idle": "2022-03-13T11:35:53.485904Z",
          "shell.execute_reply.started": "2022-03-13T11:35:51.883729Z",
          "shell.execute_reply": "2022-03-13T11:35:53.48492Z"
        },
        "trusted": true
      },
      "execution_count": 3,
      "outputs": []
    },
    {
      "cell_type": "markdown",
      "source": [
        "Kaggke API\n",
        "**remember to upload kaggke json credatinatials"
      ],
      "metadata": {
        "id": "WTgutqllBb9t"
      }
    },
    {
      "cell_type": "code",
      "source": [
        "!pip install -q kaggle"
      ],
      "metadata": {
        "id": "Sx-7BDDHxYMP",
        "execution": {
          "iopub.status.busy": "2022-03-13T11:35:53.487503Z",
          "iopub.execute_input": "2022-03-13T11:35:53.487818Z",
          "iopub.status.idle": "2022-03-13T11:36:02.501078Z",
          "shell.execute_reply.started": "2022-03-13T11:35:53.487777Z",
          "shell.execute_reply": "2022-03-13T11:36:02.499783Z"
        },
        "trusted": true
      },
      "execution_count": 4,
      "outputs": []
    },
    {
      "cell_type": "code",
      "source": [
        "#upload file and then -->\n",
        "#create kaggle folder\n",
        "! mkdir ~/.kaggle"
      ],
      "metadata": {
        "id": "JerlxHEixv9R",
        "outputId": "4e7c5ce5-ff4c-4eda-82a2-991b41a30abb",
        "execution": {
          "iopub.status.busy": "2022-03-13T11:36:02.503071Z",
          "iopub.execute_input": "2022-03-13T11:36:02.503354Z",
          "iopub.status.idle": "2022-03-13T11:36:03.259887Z",
          "shell.execute_reply.started": "2022-03-13T11:36:02.503321Z",
          "shell.execute_reply": "2022-03-13T11:36:03.258704Z"
        },
        "trusted": true,
        "colab": {
          "base_uri": "https://localhost:8080/"
        }
      },
      "execution_count": 5,
      "outputs": [
        {
          "output_type": "stream",
          "name": "stdout",
          "text": [
            "mkdir: cannot create directory ‘/root/.kaggle’: File exists\n"
          ]
        }
      ]
    },
    {
      "cell_type": "code",
      "source": [
        "#copy json file to kaggle folder\n",
        "! cp kaggle.json ~/.kaggle/"
      ],
      "metadata": {
        "id": "waDWRyXP0q0s",
        "execution": {
          "iopub.status.busy": "2022-03-13T11:36:03.261901Z",
          "iopub.execute_input": "2022-03-13T11:36:03.263629Z",
          "iopub.status.idle": "2022-03-13T11:36:04.027138Z",
          "shell.execute_reply.started": "2022-03-13T11:36:03.263571Z",
          "shell.execute_reply": "2022-03-13T11:36:04.025966Z"
        },
        "trusted": true,
        "colab": {
          "base_uri": "https://localhost:8080/"
        },
        "outputId": "b432f86b-6bab-4341-84e0-636f8344c666"
      },
      "execution_count": 6,
      "outputs": [
        {
          "output_type": "stream",
          "name": "stdout",
          "text": [
            "cp: cannot stat 'kaggle.json': No such file or directory\n"
          ]
        }
      ]
    },
    {
      "cell_type": "code",
      "source": [
        "#dowload board game zip file\n",
        "!kaggle datasets download -d threnjen/board-games-database-from-boardgamegeek"
      ],
      "metadata": {
        "id": "K3z1ZP1s067D",
        "outputId": "f8b24669-58a8-4e5c-ea03-450dc6daa9db",
        "execution": {
          "iopub.status.busy": "2022-03-13T11:36:04.029617Z",
          "iopub.execute_input": "2022-03-13T11:36:04.029997Z",
          "iopub.status.idle": "2022-03-13T11:36:05.157422Z",
          "shell.execute_reply.started": "2022-03-13T11:36:04.02993Z",
          "shell.execute_reply": "2022-03-13T11:36:05.156159Z"
        },
        "trusted": true,
        "colab": {
          "base_uri": "https://localhost:8080/"
        }
      },
      "execution_count": 7,
      "outputs": [
        {
          "output_type": "stream",
          "name": "stdout",
          "text": [
            "Dataset URL: https://www.kaggle.com/datasets/threnjen/board-games-database-from-boardgamegeek\n",
            "License(s): CC-BY-SA-3.0\n",
            "Downloading board-games-database-from-boardgamegeek.zip to /content\n",
            " 98% 145M/148M [00:05<00:00, 28.9MB/s]\n",
            "100% 148M/148M [00:05<00:00, 26.4MB/s]\n"
          ]
        }
      ]
    },
    {
      "cell_type": "code",
      "source": [
        "#unzip dataset files\n",
        "!unzip /content/board-games-database-from-boardgamegeek.zip"
      ],
      "metadata": {
        "id": "65wbvaxU2hcz",
        "outputId": "c37afe5d-2635-41c3-ae0c-3048e3275eb8",
        "execution": {
          "iopub.status.busy": "2022-03-13T11:36:05.159328Z",
          "iopub.execute_input": "2022-03-13T11:36:05.159621Z",
          "iopub.status.idle": "2022-03-13T11:36:05.910187Z",
          "shell.execute_reply.started": "2022-03-13T11:36:05.159583Z",
          "shell.execute_reply": "2022-03-13T11:36:05.909169Z"
        },
        "trusted": true,
        "colab": {
          "base_uri": "https://localhost:8080/"
        }
      },
      "execution_count": 12,
      "outputs": [
        {
          "output_type": "stream",
          "name": "stdout",
          "text": [
            "Archive:  /content/board-games-database-from-boardgamegeek.zip\n",
            "replace artists_reduced.csv? [y]es, [n]o, [A]ll, [N]one, [r]ename: A\n",
            "  inflating: artists_reduced.csv     \n",
            "  inflating: bgg_data_documentation.txt  \n",
            "  inflating: designers_reduced.csv   \n",
            "  inflating: games.csv               \n",
            "  inflating: mechanics.csv           \n",
            "  inflating: publishers_reduced.csv  \n",
            "  inflating: ratings_distribution.csv  \n",
            "  inflating: subcategories.csv       \n",
            "  inflating: themes.csv              \n",
            "  inflating: user_ratings.csv        \n"
          ]
        }
      ]
    },
    {
      "cell_type": "code",
      "source": [
        "#set max columns to\n",
        "pd.set_option('display.max_columns', 20 )\n",
        "pd.set_option('display.max_rows' , 40)\n",
        "pd.options.display.max_rows"
      ],
      "metadata": {
        "id": "OCup17WU3rIv",
        "outputId": "b95e1244-c5cf-450b-af42-f94f480c0400",
        "colab": {
          "base_uri": "https://localhost:8080/"
        }
      },
      "execution_count": 13,
      "outputs": [
        {
          "output_type": "execute_result",
          "data": {
            "text/plain": [
              "40"
            ]
          },
          "metadata": {},
          "execution_count": 13
        }
      ]
    },
    {
      "cell_type": "markdown",
      "source": [
        "### Load CSV file to Pandas DataFrame"
      ],
      "metadata": {
        "id": "glMmDySMnsxb"
      }
    },
    {
      "cell_type": "code",
      "source": [
        "#read csv's\n",
        "games = pd.read_csv('../input/board-games-database-from-boardgamegeek/games.csv')\n",
        "mechanics = pd.read_csv('../input/board-games-database-from-boardgamegeek/mechanics.csv')\n",
        "themes = pd.read_csv('../input/board-games-database-from-boardgamegeek/themes.csv')\n",
        "subcategories = pd.read_csv('../input/board-games-database-from-boardgamegeek/subcategories.csv')\n",
        "rank_dist = pd.read_csv('../input/board-games-database-from-boardgamegeek/ratings_distribution.csv')\n",
        "user_rank = pd.read_csv('../input/board-games-database-from-boardgamegeek/user_ratings.csv')\n",
        "#games.head()"
      ],
      "metadata": {
        "id": "ElCWR3jg2aBF",
        "colab": {
          "base_uri": "https://localhost:8080/",
          "height": 478
        },
        "outputId": "2035fc3b-338a-4662-ecd7-c98a054cd134"
      },
      "execution_count": 16,
      "outputs": [
        {
          "output_type": "error",
          "ename": "FileNotFoundError",
          "evalue": "[Errno 2] No such file or directory: '../content/board-games-database-from-boardgamegeek/games.csv'",
          "traceback": [
            "\u001b[0;31m---------------------------------------------------------------------------\u001b[0m",
            "\u001b[0;31mFileNotFoundError\u001b[0m                         Traceback (most recent call last)",
            "\u001b[0;32m<ipython-input-16-e923c389e037>\u001b[0m in \u001b[0;36m<cell line: 2>\u001b[0;34m()\u001b[0m\n\u001b[1;32m      1\u001b[0m \u001b[0;31m#read csv's\u001b[0m\u001b[0;34m\u001b[0m\u001b[0;34m\u001b[0m\u001b[0m\n\u001b[0;32m----> 2\u001b[0;31m \u001b[0mgames\u001b[0m \u001b[0;34m=\u001b[0m \u001b[0mpd\u001b[0m\u001b[0;34m.\u001b[0m\u001b[0mread_csv\u001b[0m\u001b[0;34m(\u001b[0m\u001b[0;34m'../content/board-games-database-from-boardgamegeek/games.csv'\u001b[0m\u001b[0;34m)\u001b[0m\u001b[0;34m\u001b[0m\u001b[0;34m\u001b[0m\u001b[0m\n\u001b[0m\u001b[1;32m      3\u001b[0m \u001b[0mmechanics\u001b[0m \u001b[0;34m=\u001b[0m \u001b[0mpd\u001b[0m\u001b[0;34m.\u001b[0m\u001b[0mread_csv\u001b[0m\u001b[0;34m(\u001b[0m\u001b[0;34m'../input/board-games-database-from-boardgamegeek/mechanics.csv'\u001b[0m\u001b[0;34m)\u001b[0m\u001b[0;34m\u001b[0m\u001b[0;34m\u001b[0m\u001b[0m\n\u001b[1;32m      4\u001b[0m \u001b[0mthemes\u001b[0m \u001b[0;34m=\u001b[0m \u001b[0mpd\u001b[0m\u001b[0;34m.\u001b[0m\u001b[0mread_csv\u001b[0m\u001b[0;34m(\u001b[0m\u001b[0;34m'../input/board-games-database-from-boardgamegeek/themes.csv'\u001b[0m\u001b[0;34m)\u001b[0m\u001b[0;34m\u001b[0m\u001b[0;34m\u001b[0m\u001b[0m\n\u001b[1;32m      5\u001b[0m \u001b[0msubcategories\u001b[0m \u001b[0;34m=\u001b[0m \u001b[0mpd\u001b[0m\u001b[0;34m.\u001b[0m\u001b[0mread_csv\u001b[0m\u001b[0;34m(\u001b[0m\u001b[0;34m'../input/board-games-database-from-boardgamegeek/subcategories.csv'\u001b[0m\u001b[0;34m)\u001b[0m\u001b[0;34m\u001b[0m\u001b[0;34m\u001b[0m\u001b[0m\n",
            "\u001b[0;32m/usr/local/lib/python3.10/dist-packages/pandas/io/parsers/readers.py\u001b[0m in \u001b[0;36mread_csv\u001b[0;34m(filepath_or_buffer, sep, delimiter, header, names, index_col, usecols, dtype, engine, converters, true_values, false_values, skipinitialspace, skiprows, skipfooter, nrows, na_values, keep_default_na, na_filter, verbose, skip_blank_lines, parse_dates, infer_datetime_format, keep_date_col, date_parser, date_format, dayfirst, cache_dates, iterator, chunksize, compression, thousands, decimal, lineterminator, quotechar, quoting, doublequote, escapechar, comment, encoding, encoding_errors, dialect, on_bad_lines, delim_whitespace, low_memory, memory_map, float_precision, storage_options, dtype_backend)\u001b[0m\n\u001b[1;32m   1024\u001b[0m     \u001b[0mkwds\u001b[0m\u001b[0;34m.\u001b[0m\u001b[0mupdate\u001b[0m\u001b[0;34m(\u001b[0m\u001b[0mkwds_defaults\u001b[0m\u001b[0;34m)\u001b[0m\u001b[0;34m\u001b[0m\u001b[0;34m\u001b[0m\u001b[0m\n\u001b[1;32m   1025\u001b[0m \u001b[0;34m\u001b[0m\u001b[0m\n\u001b[0;32m-> 1026\u001b[0;31m     \u001b[0;32mreturn\u001b[0m \u001b[0m_read\u001b[0m\u001b[0;34m(\u001b[0m\u001b[0mfilepath_or_buffer\u001b[0m\u001b[0;34m,\u001b[0m \u001b[0mkwds\u001b[0m\u001b[0;34m)\u001b[0m\u001b[0;34m\u001b[0m\u001b[0;34m\u001b[0m\u001b[0m\n\u001b[0m\u001b[1;32m   1027\u001b[0m \u001b[0;34m\u001b[0m\u001b[0m\n\u001b[1;32m   1028\u001b[0m \u001b[0;34m\u001b[0m\u001b[0m\n",
            "\u001b[0;32m/usr/local/lib/python3.10/dist-packages/pandas/io/parsers/readers.py\u001b[0m in \u001b[0;36m_read\u001b[0;34m(filepath_or_buffer, kwds)\u001b[0m\n\u001b[1;32m    618\u001b[0m \u001b[0;34m\u001b[0m\u001b[0m\n\u001b[1;32m    619\u001b[0m     \u001b[0;31m# Create the parser.\u001b[0m\u001b[0;34m\u001b[0m\u001b[0;34m\u001b[0m\u001b[0m\n\u001b[0;32m--> 620\u001b[0;31m     \u001b[0mparser\u001b[0m \u001b[0;34m=\u001b[0m \u001b[0mTextFileReader\u001b[0m\u001b[0;34m(\u001b[0m\u001b[0mfilepath_or_buffer\u001b[0m\u001b[0;34m,\u001b[0m \u001b[0;34m**\u001b[0m\u001b[0mkwds\u001b[0m\u001b[0;34m)\u001b[0m\u001b[0;34m\u001b[0m\u001b[0;34m\u001b[0m\u001b[0m\n\u001b[0m\u001b[1;32m    621\u001b[0m \u001b[0;34m\u001b[0m\u001b[0m\n\u001b[1;32m    622\u001b[0m     \u001b[0;32mif\u001b[0m \u001b[0mchunksize\u001b[0m \u001b[0;32mor\u001b[0m \u001b[0miterator\u001b[0m\u001b[0;34m:\u001b[0m\u001b[0;34m\u001b[0m\u001b[0;34m\u001b[0m\u001b[0m\n",
            "\u001b[0;32m/usr/local/lib/python3.10/dist-packages/pandas/io/parsers/readers.py\u001b[0m in \u001b[0;36m__init__\u001b[0;34m(self, f, engine, **kwds)\u001b[0m\n\u001b[1;32m   1618\u001b[0m \u001b[0;34m\u001b[0m\u001b[0m\n\u001b[1;32m   1619\u001b[0m         \u001b[0mself\u001b[0m\u001b[0;34m.\u001b[0m\u001b[0mhandles\u001b[0m\u001b[0;34m:\u001b[0m \u001b[0mIOHandles\u001b[0m \u001b[0;34m|\u001b[0m \u001b[0;32mNone\u001b[0m \u001b[0;34m=\u001b[0m \u001b[0;32mNone\u001b[0m\u001b[0;34m\u001b[0m\u001b[0;34m\u001b[0m\u001b[0m\n\u001b[0;32m-> 1620\u001b[0;31m         \u001b[0mself\u001b[0m\u001b[0;34m.\u001b[0m\u001b[0m_engine\u001b[0m \u001b[0;34m=\u001b[0m \u001b[0mself\u001b[0m\u001b[0;34m.\u001b[0m\u001b[0m_make_engine\u001b[0m\u001b[0;34m(\u001b[0m\u001b[0mf\u001b[0m\u001b[0;34m,\u001b[0m \u001b[0mself\u001b[0m\u001b[0;34m.\u001b[0m\u001b[0mengine\u001b[0m\u001b[0;34m)\u001b[0m\u001b[0;34m\u001b[0m\u001b[0;34m\u001b[0m\u001b[0m\n\u001b[0m\u001b[1;32m   1621\u001b[0m \u001b[0;34m\u001b[0m\u001b[0m\n\u001b[1;32m   1622\u001b[0m     \u001b[0;32mdef\u001b[0m \u001b[0mclose\u001b[0m\u001b[0;34m(\u001b[0m\u001b[0mself\u001b[0m\u001b[0;34m)\u001b[0m \u001b[0;34m->\u001b[0m \u001b[0;32mNone\u001b[0m\u001b[0;34m:\u001b[0m\u001b[0;34m\u001b[0m\u001b[0;34m\u001b[0m\u001b[0m\n",
            "\u001b[0;32m/usr/local/lib/python3.10/dist-packages/pandas/io/parsers/readers.py\u001b[0m in \u001b[0;36m_make_engine\u001b[0;34m(self, f, engine)\u001b[0m\n\u001b[1;32m   1878\u001b[0m                 \u001b[0;32mif\u001b[0m \u001b[0;34m\"b\"\u001b[0m \u001b[0;32mnot\u001b[0m \u001b[0;32min\u001b[0m \u001b[0mmode\u001b[0m\u001b[0;34m:\u001b[0m\u001b[0;34m\u001b[0m\u001b[0;34m\u001b[0m\u001b[0m\n\u001b[1;32m   1879\u001b[0m                     \u001b[0mmode\u001b[0m \u001b[0;34m+=\u001b[0m \u001b[0;34m\"b\"\u001b[0m\u001b[0;34m\u001b[0m\u001b[0;34m\u001b[0m\u001b[0m\n\u001b[0;32m-> 1880\u001b[0;31m             self.handles = get_handle(\n\u001b[0m\u001b[1;32m   1881\u001b[0m                 \u001b[0mf\u001b[0m\u001b[0;34m,\u001b[0m\u001b[0;34m\u001b[0m\u001b[0;34m\u001b[0m\u001b[0m\n\u001b[1;32m   1882\u001b[0m                 \u001b[0mmode\u001b[0m\u001b[0;34m,\u001b[0m\u001b[0;34m\u001b[0m\u001b[0;34m\u001b[0m\u001b[0m\n",
            "\u001b[0;32m/usr/local/lib/python3.10/dist-packages/pandas/io/common.py\u001b[0m in \u001b[0;36mget_handle\u001b[0;34m(path_or_buf, mode, encoding, compression, memory_map, is_text, errors, storage_options)\u001b[0m\n\u001b[1;32m    871\u001b[0m         \u001b[0;32mif\u001b[0m \u001b[0mioargs\u001b[0m\u001b[0;34m.\u001b[0m\u001b[0mencoding\u001b[0m \u001b[0;32mand\u001b[0m \u001b[0;34m\"b\"\u001b[0m \u001b[0;32mnot\u001b[0m \u001b[0;32min\u001b[0m \u001b[0mioargs\u001b[0m\u001b[0;34m.\u001b[0m\u001b[0mmode\u001b[0m\u001b[0;34m:\u001b[0m\u001b[0;34m\u001b[0m\u001b[0;34m\u001b[0m\u001b[0m\n\u001b[1;32m    872\u001b[0m             \u001b[0;31m# Encoding\u001b[0m\u001b[0;34m\u001b[0m\u001b[0;34m\u001b[0m\u001b[0m\n\u001b[0;32m--> 873\u001b[0;31m             handle = open(\n\u001b[0m\u001b[1;32m    874\u001b[0m                 \u001b[0mhandle\u001b[0m\u001b[0;34m,\u001b[0m\u001b[0;34m\u001b[0m\u001b[0;34m\u001b[0m\u001b[0m\n\u001b[1;32m    875\u001b[0m                 \u001b[0mioargs\u001b[0m\u001b[0;34m.\u001b[0m\u001b[0mmode\u001b[0m\u001b[0;34m,\u001b[0m\u001b[0;34m\u001b[0m\u001b[0;34m\u001b[0m\u001b[0m\n",
            "\u001b[0;31mFileNotFoundError\u001b[0m: [Errno 2] No such file or directory: '../content/board-games-database-from-boardgamegeek/games.csv'"
          ]
        }
      ]
    },
    {
      "cell_type": "code",
      "source": [
        "games.head(3)"
      ],
      "metadata": {
        "id": "VNfOIHUmfKE1"
      },
      "execution_count": null,
      "outputs": []
    },
    {
      "cell_type": "markdown",
      "source": [
        "Merge df"
      ],
      "metadata": {
        "id": "jaqsj7C5-0JB"
      }
    },
    {
      "cell_type": "code",
      "source": [
        "features = games = pd.read_csv('../input/board-games-database-from-boardgamegeek/games.csv')\n",
        "features = pd.concat( [features.BGGId , features.iloc[:,-8:-1] ] ,axis =1 )\n",
        "features = features.merge(subcategories, how=\"left\" ,left_on = 'BGGId' ,right_on= 'BGGId',  suffixes=(\"_left\", \"_right\"))\n",
        "features = features.merge(themes, how=\"left\" ,left_on = 'BGGId' ,right_on= 'BGGId',  suffixes=(\"_left\", \"_right\"))\n",
        "features = features.merge( mechanics , how=\"left\" ,left_on = 'BGGId' ,right_on= 'BGGId',  suffixes=(\"_left\", \"_right\"))\n",
        "features.shape"
      ],
      "metadata": {
        "id": "pnQaGXDaj4eI"
      },
      "execution_count": null,
      "outputs": []
    },
    {
      "cell_type": "markdown",
      "source": [
        "# Most Popular Games"
      ],
      "metadata": {
        "id": "WC1M1KKMiv52"
      }
    },
    {
      "cell_type": "code",
      "source": [
        "# bringing most pop games for new users\n",
        "games_pop = games.copy()\n",
        "games_pop['game_popularty'] = games_pop['AvgRating'] /10 * games_pop['NumOwned']\n",
        "top_ten_pop_games = games_pop.sort_values(by='game_popularty',ascending = False).head(10)\n",
        "top_ten_pop_games = top_ten_pop_games[['BGGId','Name','Description','ImagePath']]\n",
        "top_ten_pop_games = top_ten_pop_games.reset_index(drop = True)\n",
        "top_ten_pop_games"
      ],
      "metadata": {
        "id": "rw_8pEjErcoS"
      },
      "execution_count": null,
      "outputs": []
    },
    {
      "cell_type": "markdown",
      "source": [
        "# Collaborative filtering - Rate by User Ratings"
      ],
      "metadata": {
        "id": "Pca-JRdnVFRE"
      }
    },
    {
      "cell_type": "markdown",
      "source": [
        "![image.png](attachment:055830b3-f9b1-49a3-92d7-4c7d59101f88.png)"
      ],
      "metadata": {
        "id": "iBXcAfHVmCKV"
      }
    },
    {
      "cell_type": "markdown",
      "source": [
        "![image.png](attachment:29f042cf-ce66-407a-ab6b-5f09802ad5bb.png)"
      ],
      "metadata": {
        "id": "x4pC8b_omCKV"
      }
    },
    {
      "cell_type": "code",
      "source": [
        "#number of users in user ratings\n",
        "user_rank.Username.nunique()"
      ],
      "metadata": {
        "id": "vNSiHI-tVLcZ"
      },
      "execution_count": null,
      "outputs": []
    },
    {
      "cell_type": "code",
      "source": [
        "#choose user to suggest to\n",
        "active_user_id = 'zzzvone'\n",
        "active_user_ratings = user_rank[user_rank['Username'] == active_user_id]\n",
        "\n",
        "print(active_user_ratings.shape)\n",
        "active_user_ratings.head()"
      ],
      "metadata": {
        "id": "MCq9LDr9X9DG"
      },
      "execution_count": null,
      "outputs": []
    },
    {
      "cell_type": "code",
      "source": [
        "#get active_user_games and users that played same games as the active user\n",
        "active_user_games = active_user_ratings['BGGId']\n",
        "common_ratings = user_rank[user_rank['BGGId'].isin(active_user_games)]\n",
        "\n",
        "print(f\"Number of users that have at least one game in common with the active \\\n",
        "user: {common_ratings.Username.nunique()} users\")\n",
        "\n",
        "print(common_ratings.shape)\n",
        "common_ratings.sample(5)"
      ],
      "metadata": {
        "id": "6cBQXU2-Y_Bh"
      },
      "execution_count": null,
      "outputs": []
    },
    {
      "cell_type": "code",
      "source": [
        "#filter users that have rated at least 'min_common_items'(15) from 'active user' games\n",
        "min_common_items = 15\n",
        "potential_neighbors = common_ratings.groupby('Username').filter(lambda grp: len(grp) >= min_common_items)\n",
        "\n",
        "print(f\"{potential_neighbors.Username.nunique()} users\")\n",
        "\n",
        "print(potential_neighbors.shape)\n",
        "potential_neighbors.sample(5)"
      ],
      "metadata": {
        "id": "YrzU2K_DaNDy"
      },
      "execution_count": null,
      "outputs": []
    },
    {
      "cell_type": "code",
      "source": [
        "#remove 'active_user_id' from potential_neighbors\n",
        "print(potential_neighbors.shape)\n",
        "potential_neighbors = potential_neighbors.loc[potential_neighbors.Username != active_user_id]\n",
        "print(potential_neighbors.shape)"
      ],
      "metadata": {
        "id": "h6jM271kaj0p"
      },
      "execution_count": null,
      "outputs": []
    },
    {
      "cell_type": "code",
      "source": [
        "### view neighbor for example and compare to 'active user ratings'\n",
        "# neighbor_id = 'Thesp'\n",
        "\n",
        "# neighbor_ratings = potential_neighbors.loc[potential_neighbors.Username == neighbor_id, :]\n",
        "\n",
        "# print(neighbor_ratings.shape)\n",
        "# neighbor_ratings\n",
        "\n",
        "# negihbor_ratings_compare = neighbor_ratings.merge(active_user_ratings, on='BGGId', how='inner', suffixes=('_neighbor', '_active'))\n",
        "# negihbor_ratings_compare"
      ],
      "metadata": {
        "id": "QyoJpaVsFsY6"
      },
      "execution_count": null,
      "outputs": []
    },
    {
      "cell_type": "code",
      "source": [
        "#take neighbor_ratings df return similarity score\n",
        "def calc_similarity(neighbor_ratings , active_user_ratings):\n",
        "    negihbor_ratings_compare = neighbor_ratings.merge(active_user_ratings,\n",
        "         on='BGGId', how='inner', suffixes=('_neighbor', '_active'))\n",
        "\n",
        "    cos_distance = distance.cosine(negihbor_ratings_compare['Rating_active'],\n",
        "                                   negihbor_ratings_compare['Rating_neighbor'])\n",
        "    return 1 - cos_distance"
      ],
      "metadata": {
        "id": "cZddWyp8k4Qd"
      },
      "execution_count": null,
      "outputs": []
    },
    {
      "cell_type": "code",
      "source": [
        "#Apply calc_similarity function on user in 'potential_neighbors'\n",
        "similarities = potential_neighbors.groupby('Username').apply(calc_similarity ,(active_user_ratings) )\n",
        "similarities.name = 'Similarity'\n",
        "similarities.shape"
      ],
      "metadata": {
        "id": "n7PXPboFlCmP"
      },
      "execution_count": null,
      "outputs": []
    },
    {
      "cell_type": "code",
      "source": [
        "# get active user neighbors where min_similarity_score > X\n",
        "min_similarity_score = 0.96\n",
        "relevant_neighbors = similarities[similarities > min_similarity_score].index\n",
        "\n",
        "print(len(relevant_neighbors))\n",
        "relevant_neighbors"
      ],
      "metadata": {
        "id": "SpH3O3dBeD-W"
      },
      "execution_count": null,
      "outputs": []
    },
    {
      "cell_type": "code",
      "source": [
        "#get games suggestion where relevant_neighbors rate the game\n",
        "    #and the active user did NOT rate the game\n",
        "recommend_ratings = user_rank.loc[user_rank['Username'].isin(relevant_neighbors) &   # only games that were rated by the active user neighbors\n",
        "                                   ~user_rank['BGGId'].isin(active_user_games)]  # only games that the active user did not see\n",
        "\n",
        "print(recommend_ratings.shape)\n",
        "recommend_ratings.head()"
      ],
      "metadata": {
        "id": "efeyUsHZfLhq"
      },
      "execution_count": null,
      "outputs": []
    },
    {
      "cell_type": "code",
      "source": [
        "# filter 'recommend_ratings' where number of ratings by\n",
        "# the relevant neighbors on a specifc game > 'min_neighbors_ratings' (7)\n",
        "# (without the active user)\n",
        "\n",
        "#why ? - in order to later get a valid Weighted average score\n",
        "min_neighbors_ratings = 7\n",
        "\n",
        "print(recommend_ratings.shape)\n",
        "recommend_ratings = recommend_ratings.groupby('BGGId').filter(\n",
        "    lambda grp: len(grp) > min_neighbors_ratings)\n",
        "print(recommend_ratings.shape)\n",
        "recommend_ratings.BGGId.nunique()\n",
        "recommend_ratings.info()"
      ],
      "metadata": {
        "id": "VEXGXzi_f8aK"
      },
      "execution_count": null,
      "outputs": []
    },
    {
      "cell_type": "code",
      "source": [
        "def calc_game_score(game_ratings):\n",
        "    game_ratings = game_ratings.join(similarities, on='Username')\n",
        "    return (game_ratings['Rating'] *\n",
        "            game_ratings['Similarity']).sum() / \\\n",
        "            game_ratings['Similarity'].sum()"
      ],
      "metadata": {
        "id": "BM1CCmKuhopc"
      },
      "execution_count": null,
      "outputs": []
    },
    {
      "cell_type": "code",
      "source": [
        "game_scores = recommend_ratings.groupby('BGGId').apply(calc_game_score)\n",
        "game_scores.name = 'Score'\n",
        "game_scores.head()"
      ],
      "metadata": {
        "id": "0uwifeFdiL3t"
      },
      "execution_count": null,
      "outputs": []
    },
    {
      "cell_type": "code",
      "source": [
        "#option 2 ################ Calc game rating weighted avg (with similarity)\n",
        "def calc_game_score(game_ratings , similarities):\n",
        "    game_ratings = game_ratings.join(similarities, on='Username')\n",
        "    return (game_ratings['Rating'] *\n",
        "            game_ratings['Similarity']).sum() / \\\n",
        "            game_ratings['Similarity'].sum()"
      ],
      "metadata": {
        "id": "itzih_G9aCJh"
      },
      "execution_count": null,
      "outputs": []
    },
    {
      "cell_type": "code",
      "source": [
        "# apply calc_game_score on recommend_ratings\n",
        "game_scores = recommend_ratings.groupby('BGGId').apply(calc_game_score ,(similarities) )\n",
        "game_scores.name = 'Score'\n",
        "game_scores.head()"
      ],
      "metadata": {
        "id": "DNAtmoWMaGZW"
      },
      "execution_count": null,
      "outputs": []
    },
    {
      "cell_type": "code",
      "source": [
        "# ### example weighted avg rating score\n",
        "# example = recommend_ratings[recommend_ratings.BGGId == 40819]\n",
        "# example = example.join(similarities, on='Username')\n",
        "#print(game_scores[40819])\n",
        "# example"
      ],
      "metadata": {
        "id": "1i8jpCpKeTmg"
      },
      "execution_count": null,
      "outputs": []
    },
    {
      "cell_type": "code",
      "source": [
        "#select top 5 games suggestion by game score (rating weighted avg)\n",
        "n_recommendations = 5\n",
        "final_recommendation = game_scores.sort_values(ascending=False)[:n_recommendations]\n",
        "final_recommendation= final_recommendation.to_frame('score').reset_index()\n",
        "final_recommendation"
      ],
      "metadata": {
        "id": "aOw1947ekH-T"
      },
      "execution_count": null,
      "outputs": []
    },
    {
      "cell_type": "code",
      "source": [
        "#merge top 5 games suggestion with game details\n",
        "top_picks= final_recommendation.merge( games[['BGGId','Name','Description']] , on='BGGId', how='left')\n",
        "top_picks"
      ],
      "metadata": {
        "id": "7U4typXogPbb"
      },
      "execution_count": null,
      "outputs": []
    },
    {
      "cell_type": "markdown",
      "source": [
        "# Game Recommendation -  Content Based"
      ],
      "metadata": {
        "id": "eRLzi0ru3xMl"
      }
    },
    {
      "cell_type": "markdown",
      "source": [
        "![image.png](attachment:78a53c29-3c35-4ed2-b589-3183acd0d82f.png)"
      ],
      "metadata": {
        "id": "GSRGT4ANmCKf"
      }
    },
    {
      "cell_type": "markdown",
      "source": [
        "Check Feature usage"
      ],
      "metadata": {
        "id": "sK7zyuYC_Q_5"
      }
    },
    {
      "cell_type": "code",
      "source": [
        "#are there features that are not in use ? -- no\n",
        "test = features.iloc[: ,1:]\n",
        "sum_row = test.sum(axis = 0)\n",
        "print(sum_row[sum_row == 0])\n",
        "\n",
        "#are there agmes where all features are 0 ? --> 136 games\n",
        "test = features.iloc[: ,1:]\n",
        "sum_row = test.sum(axis = 1)\n",
        "sum_row[sum_row == 0].count()"
      ],
      "metadata": {
        "id": "q2oALz5C4pRH"
      },
      "execution_count": null,
      "outputs": []
    },
    {
      "cell_type": "code",
      "source": [
        "#game feature propotion - the precentage of marked features in every game\n",
        "features.iloc[:,1:].mean(axis = 1).hist(bins = 30)"
      ],
      "metadata": {
        "id": "LX-bXin97r4W"
      },
      "execution_count": null,
      "outputs": []
    },
    {
      "cell_type": "code",
      "source": [
        "#convert to sparse matrix element\n",
        "features_sparse = csr_matrix(features.iloc[:,1:].values) #BGGId left out"
      ],
      "metadata": {
        "id": "uGiipZjSDj16"
      },
      "execution_count": null,
      "outputs": []
    },
    {
      "cell_type": "markdown",
      "source": [
        "Model Object"
      ],
      "metadata": {
        "id": "5ODDTkEe_tzE"
      }
    },
    {
      "cell_type": "code",
      "source": [
        "#define knn model parameters\n",
        "model_knn = NearestNeighbors(metric= 'cosine' , algorithm= 'brute' , n_neighbors= 11 )\n",
        "model_knn"
      ],
      "metadata": {
        "id": "JvZu5sggEMpK"
      },
      "execution_count": null,
      "outputs": []
    },
    {
      "cell_type": "code",
      "source": [
        "#fit the model\n",
        "model_knn.fit(features_sparse)"
      ],
      "metadata": {
        "id": "Yi95xRdIGAUm"
      },
      "execution_count": null,
      "outputs": []
    },
    {
      "cell_type": "markdown",
      "source": [
        "##Get Recommendation by giving game name"
      ],
      "metadata": {
        "id": "YDbKU7FCQMO5"
      }
    },
    {
      "cell_type": "markdown",
      "source": [
        "Get Game Name"
      ],
      "metadata": {
        "id": "zsPbEw3-iTgl"
      }
    },
    {
      "cell_type": "code",
      "source": [
        "#try to suggest exact names\n",
        "#enter_game_name = 'catan'\n",
        "enter_game_name = input('Please enter board game name :')\n",
        "games_name_suggest = process.extract(enter_game_name , games.Name , limit = 10)\n",
        "print(f'Chose game from the list:')\n",
        "for game in games_name_suggest:\n",
        "    print(game[0])\n",
        "enter_game_name = input('chosen game is :')"
      ],
      "metadata": {
        "id": "0G79LqDLWLu1"
      },
      "execution_count": null,
      "outputs": []
    },
    {
      "cell_type": "code",
      "source": [
        "exact_name , score , idx = process.extractOne( enter_game_name , games.Name )\n",
        "print(f' found the game : \"{exact_name}\"  in row : {idx}, match score is : {score} ')"
      ],
      "metadata": {
        "id": "1O-s6s3QQYJ1"
      },
      "execution_count": null,
      "outputs": []
    },
    {
      "cell_type": "markdown",
      "source": [
        "Get Game Features by given game name"
      ],
      "metadata": {
        "id": "cEpuxLGfiCKO"
      }
    },
    {
      "cell_type": "code",
      "source": [
        "#selected_game_id = 1\n",
        "selected_game_id = games.iloc[idx ,0]\n",
        "\n",
        "selected_game_index = games.BGGId[games.BGGId == selected_game_id].index\n",
        "#create index value for idx\n",
        "#selected_game_index = pd.Int64Index(data = [idx] , dtype = 'int64')"
      ],
      "metadata": {
        "id": "Mqdrbk1L6T26"
      },
      "execution_count": null,
      "outputs": []
    },
    {
      "cell_type": "code",
      "source": [
        "select_game_features = features.iloc[selected_game_index , 1:]"
      ],
      "metadata": {
        "id": "HTUa7TZj5rTk"
      },
      "execution_count": null,
      "outputs": []
    },
    {
      "cell_type": "markdown",
      "source": [
        "Calculate Distances"
      ],
      "metadata": {
        "id": "xDRhfmk7igDu"
      }
    },
    {
      "cell_type": "code",
      "source": [
        "distances, indices  = model_knn.kneighbors(select_game_features)"
      ],
      "metadata": {
        "id": "cO5dqat8hbN2"
      },
      "execution_count": null,
      "outputs": []
    },
    {
      "cell_type": "code",
      "source": [
        "#distances is 2D , convert to 1D and take all elemnts except first value(self = 1)\n",
        "coff = 1- distances.round(5)[0][1:]"
      ],
      "metadata": {
        "id": "f_vizifShbN5"
      },
      "execution_count": null,
      "outputs": []
    },
    {
      "cell_type": "code",
      "source": [
        "#limit top 10 indices without the choosen game\n",
        "indices = indices[0][1:11]"
      ],
      "metadata": {
        "id": "2g7E6fPIhbN7"
      },
      "execution_count": null,
      "outputs": []
    },
    {
      "cell_type": "code",
      "source": [
        "#get relevant data of k neighbors\n",
        "filter = ~games.BGGId.isin( [selected_game_id]) #without the game selected\n",
        "suggested_games = games.iloc[indices ,0:6][filter == True]\n",
        "suggested_games['User_relvant_score'] =  suggested_games.AvgRating * coff\n",
        "suggested_games['distance'] = 1- coff\n",
        "suggested_games"
      ],
      "metadata": {
        "id": "zrAfqf6phbN7"
      },
      "execution_count": null,
      "outputs": []
    },
    {
      "cell_type": "markdown",
      "source": [
        "##Get Recommendation by User's Top 3 Rated Games"
      ],
      "metadata": {
        "id": "eqL8-eQ_U37_"
      }
    },
    {
      "cell_type": "code",
      "source": [
        "#user = input('Enter your User Name :')\n",
        "user = 'Tonydorrf'\n",
        "#get x highest game ratings of choosen user\n",
        "x = 3\n",
        "highest_rank = user_rank[user_rank.Username == user].sort_values(by = 'Rating' , ascending = False).iloc[:x , 0]\n",
        "#get highest_rank features\n",
        "highest_rank_features = features[features.BGGId.isin(highest_rank)].iloc[:,1:]\n"
      ],
      "metadata": {
        "id": "Q1w_6cw4VTeq"
      },
      "execution_count": null,
      "outputs": []
    },
    {
      "cell_type": "code",
      "source": [
        "games_played = user_rank.BGGId[user_rank.Username == user]\n",
        "filter = ~games.BGGId.isin( games_played) #without the games the user played"
      ],
      "metadata": {
        "id": "jIurUFR2x3WW"
      },
      "execution_count": null,
      "outputs": []
    },
    {
      "cell_type": "markdown",
      "source": [
        "check common_features"
      ],
      "metadata": {
        "id": "yKgNmtRbx1ys"
      }
    },
    {
      "cell_type": "code",
      "source": [
        "#check how many common  features all x games have\n",
        "#get all columns where the value is greater than 0\n",
        "col_filter = highest_rank_features.sum(axis = 0) > 0\n",
        "common_features = highest_rank_features.loc[:,col_filter].columns #only 3 features exsits in at least 2 games\n",
        "common_features.shape"
      ],
      "metadata": {
        "id": "AcAM8dXmeQqP"
      },
      "execution_count": null,
      "outputs": []
    },
    {
      "cell_type": "code",
      "source": [
        "#option 2 top x features\n",
        "#highest_rank_features.sum(axis = 0).sort_values(ascending = False)[:30]"
      ],
      "metadata": {
        "id": "tLBSqc8uMvEN"
      },
      "execution_count": null,
      "outputs": []
    },
    {
      "cell_type": "code",
      "source": [
        "#Avg on highest_rank features\n",
        "highest_rank_features = highest_rank_features.mean(axis = 0).rename('mean').to_frame().T\n",
        "#col_filter -limit the number of features to the common ones\n",
        "highest_rank_features = highest_rank_features.loc[:,common_features]"
      ],
      "metadata": {
        "id": "c_GIbwXhaSbD"
      },
      "execution_count": null,
      "outputs": []
    },
    {
      "cell_type": "code",
      "source": [
        "features[filter == True].loc[:, common_features ]"
      ],
      "metadata": {
        "id": "rVim-og6Ol3N"
      },
      "execution_count": null,
      "outputs": []
    },
    {
      "cell_type": "markdown",
      "source": [
        "Calculate NN"
      ],
      "metadata": {
        "id": "f6AfA9KAVS20"
      }
    },
    {
      "cell_type": "code",
      "source": [
        "#convert to sparse matrix element\n",
        "features_sparse = csr_matrix( features[filter == True].loc[:, common_features ] ) #filter out games played + inculde only common_features col"
      ],
      "metadata": {
        "id": "oG-csUGIxUDt"
      },
      "execution_count": null,
      "outputs": []
    },
    {
      "cell_type": "code",
      "source": [
        "#define knn model parameters\n",
        "model_knn_ug = NearestNeighbors(metric= 'cosine' , algorithm= 'brute' , n_neighbors= 11 )\n",
        "#fit the model\n",
        "model_knn_ug.fit(features_sparse)"
      ],
      "metadata": {
        "id": "Kh8p8JGhxCAs"
      },
      "execution_count": null,
      "outputs": []
    },
    {
      "cell_type": "code",
      "source": [
        "distances, indices  = model_knn_ug.kneighbors(highest_rank_features)"
      ],
      "metadata": {
        "id": "XScnwuZVGQxI"
      },
      "execution_count": null,
      "outputs": []
    },
    {
      "cell_type": "code",
      "source": [
        "distances"
      ],
      "metadata": {
        "id": "CBG3M-8hzOIq"
      },
      "execution_count": null,
      "outputs": []
    },
    {
      "cell_type": "code",
      "source": [
        "#distances is 2D , convert to 1D and take first 10 elements\n",
        "coff = 1- distances.round(5)[0][0:10]\n",
        "coff"
      ],
      "metadata": {
        "id": "YKNpeNgmJJM1"
      },
      "execution_count": null,
      "outputs": []
    },
    {
      "cell_type": "code",
      "source": [
        "#limit top 10 indices without the choosen game\n",
        "indices = indices[0][0:10]\n",
        "indices"
      ],
      "metadata": {
        "id": "YK4s9sgyZRNl"
      },
      "execution_count": null,
      "outputs": []
    },
    {
      "cell_type": "code",
      "source": [
        "#get relevant data of k neighbors\n",
        "suggested_games = games.iloc[indices ,0:6]#[filter == True]\n",
        "suggested_games['User_relvant_score'] =  suggested_games.AvgRating * coff\n",
        "suggested_games['distance'] = 1- coff\n",
        "suggested_games"
      ],
      "metadata": {
        "id": "FHNNdeN8Jl9a"
      },
      "execution_count": null,
      "outputs": []
    },
    {
      "cell_type": "markdown",
      "source": [
        "###Check 'suggested games' Relvance"
      ],
      "metadata": {
        "id": "FSjBx1BpWgh4"
      }
    },
    {
      "cell_type": "code",
      "source": [
        "#filter_ = features[common_features].sum(axis = 1) == 3\n",
        "\n",
        "#filter rows where avg usage in 'common_features' is greater than 30%\n",
        "filter_ = features[common_features].mean(axis = 1) > 0.1\n",
        "lis_check = features.loc[:,features.columns.isin(common_features)][filter_]"
      ],
      "metadata": {
        "id": "6qt-ye2YWYn1"
      },
      "execution_count": null,
      "outputs": []
    },
    {
      "cell_type": "code",
      "source": [
        "#get suggested_games with common_features columns\n",
        "games_check = features.loc[suggested_games.index , common_features ] #features.columns.isin(common_features)\n",
        "#games_check.join(games , how= 'inner')\n",
        "#filter\n",
        "#games_check.loc[:,features.columns.isin(common_features)]#[filter_]\n",
        "\n",
        "lis_check.join( games_check,how = 'inner' , lsuffix = '_left' , rsuffix = '_r')"
      ],
      "metadata": {
        "id": "3WWD8zdZA06q"
      },
      "execution_count": null,
      "outputs": []
    },
    {
      "cell_type": "code",
      "source": [
        "#check common features with games played\n",
        "#games_palyed & filter_ = games with common features\n",
        "games[ games.BGGId.isin(games_played) & filter_ ==True ].shape"
      ],
      "metadata": {
        "id": "ZnPQbzGyGj8c"
      },
      "execution_count": null,
      "outputs": []
    },
    {
      "cell_type": "markdown",
      "source": [
        "### **Surprise Package - Collaborative Filtering**"
      ],
      "metadata": {
        "id": "VKcJstufj4Se"
      }
    },
    {
      "cell_type": "markdown",
      "source": [
        "![image.png](attachment:46b08395-ac9b-4cb2-913a-dfa301580a80.png)"
      ],
      "metadata": {
        "id": "mPhulkqZmCKl"
      }
    },
    {
      "cell_type": "markdown",
      "source": [],
      "metadata": {
        "id": "iWO5U-oamCKl"
      }
    },
    {
      "cell_type": "code",
      "source": [
        "#filter users that have rated between 10 to 200 games\n",
        "user_rank_filtered = user_rank.groupby('Username').filter(lambda grp: len(grp) <= 200 and len(grp) >= 10 )\n",
        "print(user_rank_filtered.shape)\n",
        "user_rank_filtered.head(1)"
      ],
      "metadata": {
        "id": "SIkCagR5nVVQ"
      },
      "execution_count": null,
      "outputs": []
    },
    {
      "cell_type": "markdown",
      "source": [
        "##Define Functions for Results"
      ],
      "metadata": {
        "id": "6bwafS3l7WZv"
      }
    },
    {
      "cell_type": "code",
      "source": [
        "def get_Iu(uid):\n",
        "    \"\"\" return the number of items rated by given user\n",
        "    args:\n",
        "      uid: the id of the user\n",
        "    returns:\n",
        "      the number of items rated by the user\n",
        "    \"\"\"\n",
        "    try:\n",
        "        return len(trainset.ur[trainset.to_inner_uid(uid)])\n",
        "    except ValueError: # user was not part of the trainset\n",
        "        return 0\n",
        "\n",
        "def get_Ui(iid):\n",
        "    \"\"\" return number of users that have rated given item\n",
        "    args:\n",
        "      iid: the raw id of the item\n",
        "    returns:\n",
        "      the number of users that have rated the item.\n",
        "    \"\"\"\n",
        "    try:\n",
        "        return len(trainset.ir[trainset.to_inner_iid(iid)])\n",
        "    except ValueError:\n",
        "        return 0\n"
      ],
      "metadata": {
        "id": "R7x5GMumw85Y"
      },
      "execution_count": null,
      "outputs": []
    },
    {
      "cell_type": "code",
      "source": [
        "from collections import defaultdict\n",
        "\n",
        "def get_top_n(predictions, n=10):\n",
        "    \"\"\"Return the top-N recommendation for each user from a set of predictions.\n",
        "\n",
        "    Args:\n",
        "        predictions(list of Prediction objects): The list of predictions, as\n",
        "            returned by the test method of an algorithm.\n",
        "        n(int): The number of recommendation to output for each user. Default\n",
        "            is 10.\n",
        "\n",
        "    Returns:\n",
        "    A dict where keys are user (raw) ids and values are lists of tuples:\n",
        "        [(raw item id, rating estimation), ...] of size n.\n",
        "    \"\"\"\n",
        "\n",
        "    # First map the predictions to each user.\n",
        "    top_n = defaultdict(list)\n",
        "    for uid, iid, true_r, est, _ in predictions:\n",
        "        top_n[uid].append((iid, est))\n",
        "\n",
        "    # Then sort the predictions for each user and retrieve the k highest ones.\n",
        "    for uid, user_ratings in top_n.items():\n",
        "        user_ratings.sort(key=lambda x: x[1], reverse=True)\n",
        "        top_n[uid] = user_ratings[:n]\n",
        "\n",
        "    return top_n"
      ],
      "metadata": {
        "id": "Q2wA7p8HssHj"
      },
      "execution_count": null,
      "outputs": []
    },
    {
      "cell_type": "markdown",
      "source": [
        "## Specif User Sample - BaselineOnly Algorithm"
      ],
      "metadata": {
        "id": "AlRQ8n1H5wJL"
      }
    },
    {
      "cell_type": "code",
      "source": [
        "#choose user to suggest to\n",
        "active_user_id = 'zzzvone'\n",
        "active_user_ratings = user_rank[user_rank['Username'] == active_user_id]\n",
        "\n",
        "#get active_user_games and users that played same games as the active user\n",
        "active_user_games = active_user_ratings['BGGId']\n",
        "common_ratings = user_rank[user_rank['BGGId'].isin(active_user_games)]\n",
        "\n",
        "#filter users that have rated at least 'min_common_items'(15) from 'active user' games\n",
        "min_common_items = 15\n",
        "reduce_rating = common_ratings.groupby('Username').filter(lambda grp: len(grp) >= min_common_items)"
      ],
      "metadata": {
        "id": "0zNZlyoZ6hQ-"
      },
      "execution_count": null,
      "outputs": []
    },
    {
      "cell_type": "code",
      "source": [
        "#surprise reader object\n",
        "reader = Reader(rating_scale=(0, 10))\n",
        "#data = Dataset.load_from_df(df_new[['userID', 'ISBN', 'bookRating']], reader)\n",
        "data = Dataset.load_from_df(reduce_rating[['Username', 'BGGId' , 'Rating']], reader)\n",
        "data"
      ],
      "metadata": {
        "id": "_3MSsMlbpKn8"
      },
      "execution_count": null,
      "outputs": []
    },
    {
      "cell_type": "code",
      "source": [
        "#define algorithm params and get cross_validate scores\n",
        "print('Using ALS')\n",
        "bsl_options = {'method': 'als',\n",
        "               'n_epochs': 5,\n",
        "               'reg_u': 12,\n",
        "               'reg_i': 5\n",
        "               }\n",
        "algo = BaselineOnly(bsl_options=bsl_options)\n",
        "cross_validate(algo, data, measures=['RMSE'], cv=3, verbose=False)"
      ],
      "metadata": {
        "id": "yebCasGpw0oy"
      },
      "execution_count": null,
      "outputs": []
    },
    {
      "cell_type": "code",
      "source": [
        "#rain ,test split\n",
        "trainset, testset = sup_tt_split( data, test_size=0.25)\n",
        "#define algorithm\n",
        "algo = BaselineOnly(bsl_options=bsl_options)\n",
        "#fit - predict\n",
        "predictions = algo.fit(trainset).test(testset)\n",
        "#RMSE of predictions\n",
        "accuracy.rmse(predictions)"
      ],
      "metadata": {
        "id": "LzkE-ADBw3H2"
      },
      "execution_count": null,
      "outputs": []
    },
    {
      "cell_type": "code",
      "source": [
        "trainset = algo.trainset\n",
        "print(algo.__class__.__name__)"
      ],
      "metadata": {
        "id": "WDkDgeJow8Jy"
      },
      "execution_count": null,
      "outputs": []
    },
    {
      "cell_type": "code",
      "source": [
        "#add columns to predictions df - # of items ratigs , # of user ratings ,error diff\n",
        "df = pd.DataFrame(predictions, columns=['uid', 'iid', 'rui', 'est', 'details'])\n",
        "df['Iu_item_freq'] = df.uid.apply(get_Iu)\n",
        "df['Ui_user_freq'] = df.iid.apply(get_Ui)\n",
        "df['err'] = abs(df.est - df.rui)"
      ],
      "metadata": {
        "id": "TjF9NAlI7yLj"
      },
      "execution_count": null,
      "outputs": []
    },
    {
      "cell_type": "code",
      "source": [
        "df.head()"
      ],
      "metadata": {
        "id": "oNVnnbPczIh1"
      },
      "execution_count": null,
      "outputs": []
    },
    {
      "cell_type": "code",
      "source": [
        "# bringin the worst and best predictions\n",
        "best_predictions = df.sort_values(by='err')[:10]\n",
        "worst_predictions = df.sort_values(by='err')[-10:]"
      ],
      "metadata": {
        "id": "aRjnr7FOzMpj"
      },
      "execution_count": null,
      "outputs": []
    },
    {
      "cell_type": "code",
      "source": [
        "best_predictions"
      ],
      "metadata": {
        "id": "juNlvABBzZYb"
      },
      "execution_count": null,
      "outputs": []
    },
    {
      "cell_type": "code",
      "source": [
        "worst_predictions"
      ],
      "metadata": {
        "id": "JApGXeB20UXG"
      },
      "execution_count": null,
      "outputs": []
    },
    {
      "cell_type": "code",
      "source": [
        "#distribution of error\n",
        "df.err.sort_values().hist( bins = 100, density = True)"
      ],
      "metadata": {
        "id": "WYm-_rfk08kY"
      },
      "execution_count": null,
      "outputs": []
    },
    {
      "cell_type": "code",
      "source": [
        "# using top N fanction to pick for  user\n",
        "top_n = get_top_n(predictions, n= 10)"
      ],
      "metadata": {
        "id": "QunDrMGnC_QF"
      },
      "execution_count": null,
      "outputs": []
    },
    {
      "cell_type": "code",
      "source": [
        "# gatting the game in to a list\n",
        "result = top_n[active_user_id]\n",
        "game_id , rating = zip(*result)"
      ],
      "metadata": {
        "id": "wdkZW7NbVsth"
      },
      "execution_count": null,
      "outputs": []
    },
    {
      "cell_type": "code",
      "source": [
        "#bringing top games info\n",
        "top_games = games[games['BGGId'].isin(game_id)]\n",
        "# format top games info\n",
        "top_games = top_games[['BGGId','Name','Description','ImagePath']]"
      ],
      "metadata": {
        "id": "rixkQwC3XcKA"
      },
      "execution_count": null,
      "outputs": []
    },
    {
      "cell_type": "markdown",
      "source": [
        "##Random Sample Find Best Algorithm"
      ],
      "metadata": {
        "id": "DLPXu12859LD"
      }
    },
    {
      "cell_type": "code",
      "source": [
        "#take a sample of 1000 users\n",
        "sample_users = pd.Series(user_rank_filtered['Username'].unique()).sample(2000) #user_rank_filtered['Username'].unique()[:2000]\n",
        "sample_users = user_rank_filtered[user_rank_filtered.Username.isin(sample_users)]\n",
        "sample_users.shape"
      ],
      "metadata": {
        "id": "vAkamSpwtfoJ"
      },
      "execution_count": null,
      "outputs": []
    },
    {
      "cell_type": "code",
      "source": [
        "#surprise reader object\n",
        "reader = Reader(rating_scale=(0, 10))\n",
        "#data = Dataset.load_from_df(df_new[['userID', 'ISBN', 'bookRating']], reader)\n",
        "data = Dataset.load_from_df(sample_users[['Username', 'BGGId' , 'Rating']], reader)\n",
        "data"
      ],
      "metadata": {
        "id": "Q1I0Lmrpdoe8"
      },
      "execution_count": null,
      "outputs": []
    },
    {
      "cell_type": "code",
      "source": [
        "benchmark = []\n",
        "# Iterate over all algorithms\n",
        "for algorithm in [ SVD(), SVDpp(), KNNBaseline(), KNNBasic(), BaselineOnly()]: #NMF() ,SlopeOne(),  CoClustering() ,NormalPredictor(), KNNWithMeans(), KNNWithZScore(), #\n",
        "    # Perform cross validation\n",
        "    results = cross_validate(algorithm, data, measures=['RMSE'], cv=3, verbose=False ,return_train_measures = True)\n",
        "    print(results)\n",
        "\n",
        "    # Get results & append algorithm name\n",
        "    tmp = pd.DataFrame.from_dict(results).mean(axis=0)\n",
        "    tmp = tmp.append(pd.Series([str(algorithm).split(' ')[0].split('.')[-1]], index=['Algorithm']))\n",
        "    benchmark.append(tmp)"
      ],
      "metadata": {
        "id": "0V2e8PNp7KL1"
      },
      "execution_count": null,
      "outputs": []
    },
    {
      "cell_type": "code",
      "source": [
        "#surprise_results\n",
        "surprise_results = pd.DataFrame(benchmark).set_index('Algorithm').sort_values('test_rmse')\n",
        "surprise_results['dif_train_test'] = surprise_results.test_rmse - surprise_results.train_rmse\n",
        "surprise_results"
      ],
      "metadata": {
        "id": "ZYjP2qcf7KL2"
      },
      "execution_count": null,
      "outputs": []
    },
    {
      "cell_type": "markdown",
      "source": [
        "### Matrix factorization explain"
      ],
      "metadata": {
        "id": "el2k2iSGmCKq"
      }
    },
    {
      "cell_type": "markdown",
      "source": [
        "![image.png](attachment:31c2a367-6149-46be-81dd-2d70f4c7f72a.png)"
      ],
      "metadata": {
        "id": "GGY_l4sJmCKq"
      }
    },
    {
      "cell_type": "markdown",
      "source": [],
      "metadata": {
        "id": "RbNEI8tamCKq"
      }
    },
    {
      "cell_type": "code",
      "source": [
        "#SVDpp is the best , but the dif_train_test is 5 time bigger\n",
        "surprise_results.loc[surprise_results.test_rmse.idxmin()]"
      ],
      "metadata": {
        "id": "_E1quwZu7KL4"
      },
      "execution_count": null,
      "outputs": []
    },
    {
      "cell_type": "code",
      "source": [
        "#define algorithm params and get cross_validate scores\n",
        "print('Using ALS')\n",
        "bsl_options = {'method': 'als',\n",
        "               'n_epochs': 5,\n",
        "               'reg_u': 12,\n",
        "               'reg_i': 5\n",
        "               }\n",
        "algo = BaselineOnly(bsl_options=bsl_options)\n",
        "cross_validate(algo, data, measures=['RMSE'], cv=3, verbose=False)"
      ],
      "metadata": {
        "id": "JUAH0Jcy7KL4"
      },
      "execution_count": null,
      "outputs": []
    },
    {
      "cell_type": "code",
      "source": [
        "#rain ,test split\n",
        "trainset, testset = sup_tt_split( data, test_size=0.25)\n",
        "#define algorithm\n",
        "algo = BaselineOnly(bsl_options=bsl_options)\n",
        "#fit - predict\n",
        "predictions = algo.fit(trainset).test(testset)\n",
        "#RMSE of predictions\n",
        "accuracy.rmse(predictions)"
      ],
      "metadata": {
        "id": "PM8ogEEw7KL5"
      },
      "execution_count": null,
      "outputs": []
    },
    {
      "cell_type": "code",
      "source": [
        "trainset = algo.trainset\n",
        "print(algo.__class__.__name__)"
      ],
      "metadata": {
        "id": "EihNPqU-7KL6"
      },
      "execution_count": null,
      "outputs": []
    },
    {
      "cell_type": "code",
      "source": [
        "#add columns to predictions df - # of items ratigs , # of user ratings\n",
        "df = pd.DataFrame(predictions, columns=['uid', 'iid', 'rui', 'est', 'details'])\n",
        "df['Iu_item_freq'] = df.uid.apply(get_Iu)\n",
        "df['Ui_user_freq'] = df.iid.apply(get_Ui)\n",
        "df['err'] = abs(df.est - df.rui)"
      ],
      "metadata": {
        "id": "WRhD9QOe715p"
      },
      "execution_count": null,
      "outputs": []
    },
    {
      "cell_type": "code",
      "source": [
        "# bringin the worst and best predictions\n",
        "best_predictions = df.sort_values(by='err')[:10]\n",
        "worst_predictions = df.sort_values(by='err')[-10:]"
      ],
      "metadata": {
        "id": "l77Q6QE97KL7"
      },
      "execution_count": null,
      "outputs": []
    },
    {
      "cell_type": "code",
      "source": [
        "best_predictions"
      ],
      "metadata": {
        "id": "5XABayOp7KL7"
      },
      "execution_count": null,
      "outputs": []
    },
    {
      "cell_type": "code",
      "source": [
        "worst_predictions"
      ],
      "metadata": {
        "id": "UElasCN87KL7"
      },
      "execution_count": null,
      "outputs": []
    },
    {
      "cell_type": "code",
      "source": [
        "#distribution of error\n",
        "\n",
        "df.err.sort_values().hist( bins = 100, density = True)"
      ],
      "metadata": {
        "id": "MAQBfCtV7KL7"
      },
      "execution_count": null,
      "outputs": []
    },
    {
      "cell_type": "code",
      "source": [
        "#cumulative % of error\n",
        "from matplotlib.ticker import PercentFormatter\n",
        "df.err.sort_values().plot( kind = 'hist' , bins = 100\n",
        "                          ,fontsize = 13\n",
        "                          ,xticks = range(0,10) ,histtype='step',\n",
        "                           cumulative=True ,weights=np.ones(len(df)) / len(df) , figsize = (10,8) )\n",
        "\n",
        "plt.gca().yaxis.set_major_formatter(PercentFormatter(1))\n",
        "plt.gca().set_xlabel(\"RMSE\", fontsize = 20)\n",
        "plt.gca().set_ylabel( 'cumulative %', fontsize = 20)\n",
        "plt.gca().set_title('Cumulative % of RMSE' , fontsize = 20)\n"
      ],
      "metadata": {
        "id": "rPY19y52mCKs"
      },
      "execution_count": null,
      "outputs": []
    }
  ]
}