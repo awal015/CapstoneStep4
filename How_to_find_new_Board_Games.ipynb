{
  "metadata": {
    "kernelspec": {
      "language": "python",
      "display_name": "Python 3",
      "name": "python3"
    },
    "language_info": {
      "pygments_lexer": "ipython3",
      "nbconvert_exporter": "python",
      "version": "3.6.4",
      "file_extension": ".py",
      "codemirror_mode": {
        "name": "ipython",
        "version": 3
      },
      "name": "python",
      "mimetype": "text/x-python"
    },
    "kaggle": {
      "accelerator": "none",
      "dataSources": [
        {
          "sourceId": 3055483,
          "sourceType": "datasetVersion",
          "datasetId": 1870426
        }
      ],
      "dockerImageVersionId": 30157,
      "isInternetEnabled": false,
      "language": "python",
      "sourceType": "notebook",
      "isGpuEnabled": false
    },
    "colab": {
      "name": "How to find new Board Games",
      "provenance": [],
      "include_colab_link": true
    }
  },
  "nbformat_minor": 0,
  "nbformat": 4,
  "cells": [
    {
      "cell_type": "markdown",
      "metadata": {
        "id": "view-in-github",
        "colab_type": "text"
      },
      "source": [
        "<a href=\"https://colab.research.google.com/github/awal015/CapstoneStep4/blob/main/How_to_find_new_Board_Games.ipynb\" target=\"_parent\"><img src=\"https://colab.research.google.com/assets/colab-badge.svg\" alt=\"Open In Colab\"/></a>"
      ]
    },
    {
      "source": [
        "# IMPORTANT: RUN THIS CELL IN ORDER TO IMPORT YOUR KAGGLE DATA SOURCES,\n",
        "# THEN FEEL FREE TO DELETE THIS CELL.\n",
        "# NOTE: THIS NOTEBOOK ENVIRONMENT DIFFERS FROM KAGGLE'S PYTHON\n",
        "# ENVIRONMENT SO THERE MAY BE MISSING LIBRARIES USED BY YOUR\n",
        "# NOTEBOOK.\n",
        "import kagglehub\n",
        "threnjen_board_games_database_from_boardgamegeek_path = kagglehub.dataset_download('threnjen/board-games-database-from-boardgamegeek')\n",
        "\n",
        "print('Data source import complete.')\n"
      ],
      "metadata": {
        "id": "k89rD8t7rY39"
      },
      "cell_type": "code",
      "outputs": [],
      "execution_count": null
    },
    {
      "cell_type": "markdown",
      "source": [
        "# Goal\n",
        "\n",
        "The goal of this notebook is to explore two ways of finding new Board Games you might like.\n",
        "\n",
        "The first one is the Community approach, where you will have the possibility to restrict the\n",
        "* Amount of Players,\n",
        "* Time played\n",
        "* and Number of User Ratings\n",
        "\n",
        "Finally, you will declare a **SucessFactor** in\n",
        "* Number of Users owning the Game,\n",
        "* the Average User Rating\n",
        "* or the Difficulty of the Game,\n",
        "\n",
        "and be able to go through the top 15 Board Games within your declared boundaries.\n",
        "\n",
        "The second approach is based on User Ratings. Your input will be some of your favorite Board Games and you will be presented with other Board Games that likeminded users also loved, allowing similar restriction as before. This approach will be split into two subideas."
      ],
      "metadata": {
        "id": "3jxx-HforY3-"
      }
    },
    {
      "cell_type": "code",
      "source": [
        "import pandas as pd\n",
        "import numpy as np\n",
        "\n",
        "pd.set_option('display.max_columns', None) #Always show all columns\n",
        "pd.set_option('display.max_rows', 200) #Always show upto 200 rows"
      ],
      "metadata": {
        "execution": {
          "iopub.status.busy": "2023-01-02T18:27:41.05747Z",
          "iopub.execute_input": "2023-01-02T18:27:41.058516Z",
          "iopub.status.idle": "2023-01-02T18:27:41.086541Z",
          "shell.execute_reply.started": "2023-01-02T18:27:41.0584Z",
          "shell.execute_reply": "2023-01-02T18:27:41.085657Z"
        },
        "trusted": true,
        "id": "J21abDEprY3_"
      },
      "execution_count": null,
      "outputs": []
    },
    {
      "cell_type": "markdown",
      "source": [
        "# Data Preparation\n",
        "\n",
        "In a first step, we must load the data and change some of the columns values like **Cat:War** to **CatWar**, because they are subpar to work with."
      ],
      "metadata": {
        "id": "YiBHE7vCrY3_"
      }
    },
    {
      "cell_type": "code",
      "source": [
        "df = pd.read_csv('/kaggle/input/board-games-database-from-boardgamegeek/games.csv')\n",
        "\n",
        "df.columns = ['BGGId', 'Name', 'Description', 'YearPublished', 'GameWeight',\n",
        "       'AvgRating', 'BayesAvgRating', 'StdDev', 'MinPlayers', 'MaxPlayers',\n",
        "       'ComAgeRec', 'LanguageEase', 'BestPlayers', 'GoodPlayers', 'NumOwned',\n",
        "       'NumWant', 'NumWish', 'NumWeightVotes', 'MfgPlaytime', 'ComMinPlaytime',\n",
        "       'ComMaxPlaytime', 'MfgAgeRec', 'NumUserRatings', 'NumComments',\n",
        "       'NumAlternates', 'NumExpansions', 'NumImplementations',\n",
        "       'IsReimplementation', 'Family', 'Kickstarted', 'ImagePath',\n",
        "       'RankBoardgame', 'RankStrategygames', 'RankAbstracts',\n",
        "       'RankFamilygames', 'RankThematic', 'RankCgs', 'RankWargames',\n",
        "       'RankPartygames', 'RankChildrensgames', 'CatThematic',\n",
        "       'CatStrategy', 'CatWar', 'CatFamily', 'CatCGS', 'CatAbstract',\n",
        "       'CatParty', 'CatChildrens']"
      ],
      "metadata": {
        "_kg_hide-input": false,
        "execution": {
          "iopub.status.busy": "2023-01-02T18:27:41.088281Z",
          "iopub.execute_input": "2023-01-02T18:27:41.089223Z",
          "iopub.status.idle": "2023-01-02T18:27:41.842257Z",
          "shell.execute_reply.started": "2023-01-02T18:27:41.08918Z",
          "shell.execute_reply": "2023-01-02T18:27:41.841011Z"
        },
        "trusted": true,
        "id": "3nkzI8-xrY4A"
      },
      "execution_count": null,
      "outputs": []
    },
    {
      "cell_type": "markdown",
      "source": [
        "## Create Subdataframe\n",
        "\n",
        "Secondly, we exclude some factors we do not care about like **NumExpansions, NumImplementations** etc. and create a subdataframe based on all the other factors."
      ],
      "metadata": {
        "id": "y72hglYirY4A"
      }
    },
    {
      "cell_type": "code",
      "source": [
        "sub_df = df.drop(['NumAlternates', 'NumExpansions', 'NumImplementations',\n",
        "       'IsReimplementation', 'Family', 'Kickstarted', 'ImagePath','CatThematic',\n",
        "       'CatStrategy', 'CatWar', 'CatFamily', 'CatCGS', 'CatAbstract',\n",
        "       'CatParty', 'CatChildrens', 'LanguageEase', 'BayesAvgRating', 'NumComments',\n",
        "        'RankFamilygames', 'RankThematic', 'RankChildrensgames', 'YearPublished', 'NumWant',\n",
        "       'NumWish', 'ComMinPlaytime', 'ComAgeRec', 'MfgAgeRec',\n",
        "       'RankBoardgame', 'RankStrategygames', 'RankAbstracts', 'RankCgs',\n",
        "       'RankWargames', 'RankPartygames', 'Description'], axis = 1)"
      ],
      "metadata": {
        "_kg_hide-input": false,
        "execution": {
          "iopub.status.busy": "2023-01-02T18:27:41.844558Z",
          "iopub.execute_input": "2023-01-02T18:27:41.844934Z",
          "iopub.status.idle": "2023-01-02T18:27:41.86245Z",
          "shell.execute_reply.started": "2023-01-02T18:27:41.84489Z",
          "shell.execute_reply": "2023-01-02T18:27:41.861642Z"
        },
        "trusted": true,
        "id": "AVKqV6O5rY4A"
      },
      "execution_count": null,
      "outputs": []
    },
    {
      "cell_type": "markdown",
      "source": [
        "# Extracting Information for Board Games\n",
        "\n",
        "Before starting to suggest New Board Games, we want to make sure that we extract all the information about each game, so that we can present a full picture when we start with the suggestions.\n",
        "\n",
        "In this section, we will add Information about\n",
        "* **Category**\n",
        "* **Subcategories**\n",
        "* **Themes**\n",
        "\n",
        "to the *sub_df*."
      ],
      "metadata": {
        "id": "K6W2Xw4drY4A"
      }
    },
    {
      "cell_type": "markdown",
      "source": [
        "## Extracting the Information from the One Hot Columns\n",
        "\n",
        "A lot of Information is encoded as a One Hot Columns, like e.g. the **Categories**. To decode them, the following function will be used."
      ],
      "metadata": {
        "id": "XbfGVvo6rY4A"
      }
    },
    {
      "cell_type": "markdown",
      "source": [
        "### From One Hot to Value"
      ],
      "metadata": {
        "id": "naJQttAOrY4A"
      }
    },
    {
      "cell_type": "code",
      "source": [
        "def from_one_hot_to_category(row, names_array): #take a row of a dataframe and a array of names\n",
        "    cat_array = np.array(row) #interpret the row as an np.array\n",
        "    names_array = [\" \" + s + \",\" for s in names_array] #Add an \" \" at the beginning and a \",\" at the end of every name in names_array\n",
        "    return ''.join(np.repeat(names_array, cat_array)) #Output names_array * cat_array.transpose, whereby string * int = string if int = 1 and 0 else"
      ],
      "metadata": {
        "_kg_hide-input": false,
        "execution": {
          "iopub.status.busy": "2023-01-02T18:27:41.864016Z",
          "iopub.execute_input": "2023-01-02T18:27:41.864492Z",
          "iopub.status.idle": "2023-01-02T18:27:41.87049Z",
          "shell.execute_reply.started": "2023-01-02T18:27:41.864455Z",
          "shell.execute_reply": "2023-01-02T18:27:41.86975Z"
        },
        "trusted": true,
        "id": "0RhZc1rurY4B"
      },
      "execution_count": null,
      "outputs": []
    },
    {
      "cell_type": "markdown",
      "source": [
        "### Category"
      ],
      "metadata": {
        "id": "goryP5DYrY4B"
      }
    },
    {
      "cell_type": "code",
      "source": [
        "df['Category'] = df[['CatThematic',\n",
        "       'CatStrategy', 'CatWar', 'CatFamily', 'CatCGS', 'CatAbstract',\n",
        "       'CatParty', 'CatChildrens']].apply(lambda row: from_one_hot_to_category(row, list(row.index)), axis = 1) #apply from_one_hot_to_category rowwise\n",
        "\n",
        "df['Category'] = df['Category'].str[1:-1].str.replace('Cat','') #Get rid of the first \" \" at left hand side and the last \",\" at the right hand side\n",
        "\n",
        "sub_df = sub_df.merge(df[['BGGId', 'Category']], on = 'BGGId', how = 'left') #Add the new column Category to sub_df"
      ],
      "metadata": {
        "_kg_hide-input": true,
        "execution": {
          "iopub.status.busy": "2023-01-02T18:27:41.872872Z",
          "iopub.execute_input": "2023-01-02T18:27:41.87345Z",
          "iopub.status.idle": "2023-01-02T18:27:42.563878Z",
          "shell.execute_reply.started": "2023-01-02T18:27:41.873289Z",
          "shell.execute_reply": "2023-01-02T18:27:42.563068Z"
        },
        "trusted": true,
        "id": "KKYvLR5frY4B"
      },
      "execution_count": null,
      "outputs": []
    },
    {
      "cell_type": "markdown",
      "source": [
        "### Subcategories"
      ],
      "metadata": {
        "id": "3_OCkhkJrY4B"
      }
    },
    {
      "cell_type": "code",
      "source": [
        "subcategory = pd.read_csv('/kaggle/input/board-games-database-from-boardgamegeek/subcategories.csv') #Load the data\n",
        "\n",
        "subcategory['Subcategories'] = subcategory.drop('BGGId', axis = 1).apply(lambda row: from_one_hot_to_category(row, list(row.index)), axis = 1) #apply from_one_hot_to_category rowwise\n",
        "\n",
        "subcategory['Subcategories'] = subcategory['Subcategories'].str[1:-1] #Get rid of the first \" \" at left hand side and the last \",\" at the right hand side\n",
        "\n",
        "sub_df = sub_df.merge(subcategory[['BGGId', 'Subcategories']], on = 'BGGId', how = 'left') #Add the new column Subcategories to sub_df"
      ],
      "metadata": {
        "_kg_hide-input": true,
        "execution": {
          "iopub.status.busy": "2023-01-02T18:27:42.565208Z",
          "iopub.execute_input": "2023-01-02T18:27:42.565622Z",
          "iopub.status.idle": "2023-01-02T18:27:43.240915Z",
          "shell.execute_reply.started": "2023-01-02T18:27:42.565589Z",
          "shell.execute_reply": "2023-01-02T18:27:43.239384Z"
        },
        "trusted": true,
        "id": "mbrT38mIrY4B"
      },
      "execution_count": null,
      "outputs": []
    },
    {
      "cell_type": "markdown",
      "source": [
        "### Themes"
      ],
      "metadata": {
        "id": "46PRZOjxrY4B"
      }
    },
    {
      "cell_type": "code",
      "source": [
        "themes = pd.read_csv('/kaggle/input/board-games-database-from-boardgamegeek/themes.csv') #Load the data\n",
        "\n",
        "themes['Themes'] = themes.drop('BGGId', axis=1).apply(lambda row: from_one_hot_to_category(row, list(row.index)), axis = 1) #apply from_one_hot_to_category rowwise\n",
        "\n",
        "themes['Themes'] = themes['Themes'].str[1:-1] #Get rid of the first \" \" at left hand side and the last \",\" at the right hand side\n",
        "\n",
        "sub_df = sub_df.merge(themes[['BGGId', 'Themes']], on = 'BGGId', how = 'left') #Add the new column Themes to sub_df"
      ],
      "metadata": {
        "_kg_hide-input": true,
        "execution": {
          "iopub.status.busy": "2023-01-02T18:27:43.24259Z",
          "iopub.execute_input": "2023-01-02T18:27:43.242879Z",
          "iopub.status.idle": "2023-01-02T18:27:46.374225Z",
          "shell.execute_reply.started": "2023-01-02T18:27:43.24284Z",
          "shell.execute_reply": "2023-01-02T18:27:46.373209Z"
        },
        "trusted": true,
        "id": "v6ZZjaegrY4C"
      },
      "execution_count": null,
      "outputs": []
    },
    {
      "cell_type": "markdown",
      "source": [
        "## Reordering sub_df and loading user_ratings Dataframe"
      ],
      "metadata": {
        "id": "sF2PtNG4rY4C"
      }
    },
    {
      "cell_type": "markdown",
      "source": [
        "Next, we want to reorder *sub_df* and load the User Ratings into pandas."
      ],
      "metadata": {
        "id": "9bY2nZ2LrY4C"
      }
    },
    {
      "cell_type": "code",
      "source": [
        "sub_df = sub_df[['Name', 'AvgRating', 'StdDev', 'NumUserRatings', 'Category', 'Subcategories', 'Themes', 'ComMaxPlaytime', 'MinPlayers',\n",
        "       'MaxPlayers', 'BestPlayers', 'GoodPlayers', 'GameWeight', 'MfgPlaytime', 'NumOwned', 'BGGId']] #Changing the column order\n",
        "\n",
        "df_suggestions = sub_df.copy() #creating a seperat dataframe for the second suggestions\n",
        "\n",
        "user_ratings = pd.read_csv('/kaggle/input/board-games-database-from-boardgamegeek/user_ratings.csv') #Loading the Userratings\n",
        "\n",
        "user_ratings.isna().sum() / user_ratings.shape[0]"
      ],
      "metadata": {
        "execution": {
          "iopub.status.busy": "2023-01-02T18:27:46.37563Z",
          "iopub.execute_input": "2023-01-02T18:27:46.375953Z",
          "iopub.status.idle": "2023-01-02T18:28:05.4809Z",
          "shell.execute_reply.started": "2023-01-02T18:27:46.375911Z",
          "shell.execute_reply": "2023-01-02T18:28:05.48004Z"
        },
        "trusted": true,
        "id": "ZbfxqbDMrY4C"
      },
      "execution_count": null,
      "outputs": []
    },
    {
      "cell_type": "markdown",
      "source": [
        "There are very few Usernames missing in the *user_ratings* Dataframe.\n",
        "\n",
        "We will exclude those."
      ],
      "metadata": {
        "id": "SSdlWsBDrY4C"
      }
    },
    {
      "cell_type": "code",
      "source": [
        "user_ratings = user_ratings[~user_ratings.Username.isna()] #Exclude all rows with missing usernames"
      ],
      "metadata": {
        "execution": {
          "iopub.status.busy": "2023-01-02T18:28:05.482319Z",
          "iopub.execute_input": "2023-01-02T18:28:05.483206Z",
          "iopub.status.idle": "2023-01-02T18:28:08.521164Z",
          "shell.execute_reply.started": "2023-01-02T18:28:05.483164Z",
          "shell.execute_reply": "2023-01-02T18:28:08.52018Z"
        },
        "trusted": true,
        "id": "X-HWOcB5rY4C"
      },
      "execution_count": null,
      "outputs": []
    },
    {
      "cell_type": "markdown",
      "source": [
        "# Finding new Games\n",
        "\n",
        "Finally, we get to the heart of the notebook, where one can adjust parameters to get suggestions, one might be interested in.\n",
        "\n",
        "Remember, there are three factors to adjust:\n",
        "* **MaxPlaytime:** The highest tolerable number of minutes the game should last;\n",
        "* **AtleastPlayers:** The lowest number of players that must be allowed to play;\n",
        "* **NumUserRatings:** The lowest number of User Ratings a game must have on Board Game Geek."
      ],
      "metadata": {
        "id": "IHcZUkHXrY4C"
      }
    },
    {
      "cell_type": "markdown",
      "source": [
        "## Community Approach\n",
        "\n",
        "This subsection is about finding games, based on your parameters, that are most loved by the community.\n",
        "\n",
        "You may also choose the **SuccessFactor** out of\n",
        "* **AvgRating:** The Average Rating on BGG (this is the default);\n",
        "* **NumOwned:** Number of User on BGG owning this game;\n",
        "* **GameWeight:** Difficulty of the game, according to BGG Users."
      ],
      "metadata": {
        "id": "ym6tsGzcrY4C"
      }
    },
    {
      "cell_type": "code",
      "source": [
        "def most_loved(NumUserRatings = 10, MaxPlaytime = 10000,\n",
        "               AtleastPlayers = 2, SuccessFactor = 'AvgRating'):\n",
        "    df_pref = sub_df[sub_df.NumUserRatings > NumUserRatings] #Only taking games, where there are more User Ratings than NumUserRatings\n",
        "    df_pref = df_pref[df_pref.ComMaxPlaytime < MaxPlaytime]  #Only taking games, where the ComMaxPlaytime is atmost MaxPlaytime\n",
        "    df_pref = df_pref[df_pref.MaxPlayers >= AtleastPlayers]  #Only taking games, where the MaxPlayers is more than or equal to AtleastPlayers\n",
        "    return df_pref.sort_values(SuccessFactor, ascending = False).head(n=15) #Sort df_pref by the SuccessFactor and return the top 15"
      ],
      "metadata": {
        "execution": {
          "iopub.status.busy": "2023-01-02T18:28:08.522595Z",
          "iopub.execute_input": "2023-01-02T18:28:08.52283Z",
          "iopub.status.idle": "2023-01-02T18:28:08.528998Z",
          "shell.execute_reply.started": "2023-01-02T18:28:08.522801Z",
          "shell.execute_reply": "2023-01-02T18:28:08.527995Z"
        },
        "trusted": true,
        "id": "t9oeLJbHrY4D"
      },
      "execution_count": null,
      "outputs": []
    },
    {
      "cell_type": "code",
      "source": [
        "most_loved(NumUserRatings = 100, MaxPlaytime = 180,\n",
        "           AtleastPlayers = 5, SuccessFactor = 'AvgRating')"
      ],
      "metadata": {
        "execution": {
          "iopub.status.busy": "2023-01-02T18:28:08.532195Z",
          "iopub.execute_input": "2023-01-02T18:28:08.532459Z",
          "iopub.status.idle": "2023-01-02T18:28:08.580989Z",
          "shell.execute_reply.started": "2023-01-02T18:28:08.532428Z",
          "shell.execute_reply": "2023-01-02T18:28:08.580137Z"
        },
        "trusted": true,
        "id": "y9X_GbysrY4D"
      },
      "execution_count": null,
      "outputs": []
    },
    {
      "cell_type": "markdown",
      "source": [
        "## Based on Players who share a passion for our favorite games\n",
        "\n",
        "In this subsection, you will be presented further suggestions based on likeminded users and the games they love. This will happen in three steps:\n",
        "1. You input the **BGGId**'s, as a list or int, of your favorite games and other parameters into the function \"suggesting_new_games\";\n",
        "2. The function will find users that also loved those games, based on them being in the top 10% of the highest Raters of any or all (if MustLikeAll=True) of those games;\n",
        "3. It returns the top 15 games based on the **Rating** of those likeminded users.\n",
        "\n",
        "It is important to note that one must consider tweeking some parameters here. For example, if there is one user in these likeminded users that gave a game a 10-rating, but noone else voted on this game, is this really a game one should suggest?\n",
        "\n",
        "Accordingly, there are some new parameters in:\n",
        "* **MinVotes:** This is the least number of likeminded users that need to have voted on a certain game;\n",
        "* **MustLikeAll:** If this is set to \"True\", only the users are considered that were in the 90th Percential of all the given **BGGId**'s. Otherwise, it is enough for a user to be in the 90th Percential of one of your games."
      ],
      "metadata": {
        "id": "G51_zx4MrY4D"
      }
    },
    {
      "cell_type": "code",
      "source": [
        "def finding_games(like_minded_users, NumUserRatings = 15, MaxPlaytime = 10000,\n",
        "                         AtleastPlayers = 0, MinVotes = 10):\n",
        "\n",
        "    #Find all rows, where the likeminded users voted\n",
        "    ratings_of_likeminded = user_ratings[user_ratings.Username.isin(like_minded_users)]\n",
        "\n",
        "    #Find the average Rating and the number of Ratings for every BGGId\n",
        "    suggestions = ratings_of_likeminded.groupby('BGGId').agg(['mean', 'count'])\n",
        "    #Exclude all BGGIds, where there were less or equal to MinVotes Ratings\n",
        "    suggestions = suggestions[suggestions.Rating['count'] > MinVotes]\n",
        "    #Rename columns\n",
        "    suggestions.columns = ['MeanRating', 'NumRatings']\n",
        "    #Sort columns by MeanRating from top to buttom\n",
        "    suggestions = suggestions.sort_values('MeanRating', ascending = False)\n",
        "    #Make BGGId go from index to column\n",
        "    suggestions = suggestions.reset_index()\n",
        "\n",
        "    #Start excluding rows based on the input parameters in AtleastPlayers, NumUserRatings and MaxPlaytime\n",
        "    new_games = df_suggestions[df_suggestions.MaxPlayers > AtleastPlayers]\n",
        "    new_games = new_games[new_games.NumUserRatings > NumUserRatings]\n",
        "    new_games = new_games[new_games.ComMaxPlaytime <= MaxPlaytime]\n",
        "    #Attach the NumRatings and MeanRating to new_games based on BGGId\n",
        "    new_games = new_games.merge(suggestions[['BGGId', 'NumRatings', 'MeanRating']], on = 'BGGId', how = 'left')\n",
        "    #Get the Top 15 of the new_games Dataframe with respect to MeanRating\n",
        "    new_games = new_games.sort_values('MeanRating', ascending = False).head(n=15)\n",
        "\n",
        "    return new_games"
      ],
      "metadata": {
        "execution": {
          "iopub.status.busy": "2023-01-02T18:28:08.582911Z",
          "iopub.execute_input": "2023-01-02T18:28:08.583268Z",
          "iopub.status.idle": "2023-01-02T18:28:08.592514Z",
          "shell.execute_reply.started": "2023-01-02T18:28:08.583222Z",
          "shell.execute_reply": "2023-01-02T18:28:08.591603Z"
        },
        "trusted": true,
        "id": "k5y5mSp5rY4D"
      },
      "execution_count": null,
      "outputs": []
    },
    {
      "cell_type": "code",
      "source": [
        "def suggesting_new_games(BGGIds: list or int, NumUserRatings = 15, MaxPlaytime = 10000,\n",
        "                         AtleastPlayers = 0, MustLikeAll = False, MinVotes = 10):\n",
        "    if isinstance(BGGIds, list): #If BGGIds is a list\n",
        "        if MustLikeAll:\n",
        "            #Initialize user_names\n",
        "            user_names = set(user_ratings[user_ratings.BGGId == BGGIds[0]].Username.unique())\n",
        "            #Loop over all BGGIds\n",
        "            for Id in BGGIds:\n",
        "                #Intersect the user_names of the 90th Percentile of all your favorite games\n",
        "                user_names = set(user_ratings[user_ratings.BGGId == Id].Username.unique()).intersection(user_names)\n",
        "        else:\n",
        "            #Find all rows, where any of your games were rated\n",
        "            ratings = user_ratings[user_ratings.BGGId.isin(BGGIds)]\n",
        "            #Find the 10% of users that liked your games the most\n",
        "            ratings = ratings[ratings.Rating >= user_ratings.Rating.quantile(0.9)]\n",
        "            #Go from a dataframe to a list and exclude Usernames if they occur multiple times\n",
        "            user_names = ratings.Username.unique()\n",
        "    else:\n",
        "        #Find all rows, where your game was rated\n",
        "        ratings = user_ratings[user_ratings.BGGId == BGGIds]\n",
        "        #Find the 10% of users that liked your game the most\n",
        "        ratings = ratings[ratings.Rating >= user_ratings.Rating.quantile(0.9)]\n",
        "        #Go from a dataframe to a list and exclude Usernames if they occur multiple times\n",
        "        user_names = ratings.Username.unique()\n",
        "\n",
        "    return finding_games(user_names, NumUserRatings, MaxPlaytime,\n",
        "                         AtleastPlayers, MinVotes)"
      ],
      "metadata": {
        "execution": {
          "iopub.status.busy": "2023-01-02T18:28:08.594123Z",
          "iopub.execute_input": "2023-01-02T18:28:08.594392Z",
          "iopub.status.idle": "2023-01-02T18:28:08.611118Z",
          "shell.execute_reply.started": "2023-01-02T18:28:08.594361Z",
          "shell.execute_reply": "2023-01-02T18:28:08.609879Z"
        },
        "trusted": true,
        "id": "Ru6ANIy8rY4D"
      },
      "execution_count": null,
      "outputs": []
    },
    {
      "cell_type": "markdown",
      "source": [
        "In this example, I plugged in \"7 Wonders\", \"Carcassone\", \"Codenames\" and \"Scythe\"."
      ],
      "metadata": {
        "id": "Zj6hVPUSrY4D"
      }
    },
    {
      "cell_type": "code",
      "source": [
        "new_games = suggesting_new_games([68448, 822, 178900, 169786], MaxPlaytime = 180,\n",
        "                                 AtleastPlayers = 5, MustLikeAll = True)\n",
        "\n",
        "new_games"
      ],
      "metadata": {
        "execution": {
          "iopub.status.busy": "2023-01-02T18:28:08.612589Z",
          "iopub.execute_input": "2023-01-02T18:28:08.612841Z",
          "iopub.status.idle": "2023-01-02T18:28:14.384281Z",
          "shell.execute_reply.started": "2023-01-02T18:28:08.612807Z",
          "shell.execute_reply": "2023-01-02T18:28:14.382783Z"
        },
        "trusted": true,
        "id": "Lm7BOKL6rY4D"
      },
      "execution_count": null,
      "outputs": []
    },
    {
      "cell_type": "markdown",
      "source": [
        "# Finding players with similar interests"
      ],
      "metadata": {
        "id": "Lk5DVRFArY4E"
      }
    },
    {
      "cell_type": "markdown",
      "source": [
        "Another approach would be to compare our ratings of games with the ratings of other players by defining a distance between players:\n",
        "\n",
        "$$\\sum_{game \\in \\Omega} (our \\; rating(game) - their \\; rating(game))^2,$$\n",
        "\n",
        "where $\\Omega$ is the set of games you and the other user have rated. So essentialy we want to find the users, that rated games similarly to us.\n",
        "\n",
        "After finding likeminded users in this way, we may look again at their favorite games for suggestions.\n",
        "\n",
        "In this approach, we also incorperate whenever both users did not like a game, an advantadge to the previous approach."
      ],
      "metadata": {
        "id": "cAi9nYdVrY4E"
      }
    },
    {
      "cell_type": "code",
      "source": [
        "df[df.BGGId.isin([68448, 822, 178900, 169786, 224517, 84876, 150145, 131357])].Name.unique()"
      ],
      "metadata": {
        "execution": {
          "iopub.status.busy": "2023-01-02T18:28:14.385785Z",
          "iopub.execute_input": "2023-01-02T18:28:14.386082Z",
          "iopub.status.idle": "2023-01-02T18:28:14.399387Z",
          "shell.execute_reply.started": "2023-01-02T18:28:14.386046Z",
          "shell.execute_reply": "2023-01-02T18:28:14.398517Z"
        },
        "trusted": true,
        "id": "QYoyjKuXrY4E"
      },
      "execution_count": null,
      "outputs": []
    },
    {
      "cell_type": "code",
      "source": [
        "#Defining our data set with our rating\n",
        "BGGIds = [68448, 822, 178900, 169786, 224517, 84876, 150145, 131357]\n",
        "ratings = [7, 6, 8, 8, 9, 8, 9, 6] #The first rating coresponds to the first BGGId\n",
        "our_ratings = pd.DataFrame(np.array([BGGIds, ratings]).T, columns = ['BGGId', 'Rating'])"
      ],
      "metadata": {
        "execution": {
          "iopub.status.busy": "2023-01-02T18:28:14.400793Z",
          "iopub.execute_input": "2023-01-02T18:28:14.401619Z",
          "iopub.status.idle": "2023-01-02T18:28:14.41931Z",
          "shell.execute_reply.started": "2023-01-02T18:28:14.401566Z",
          "shell.execute_reply": "2023-01-02T18:28:14.417255Z"
        },
        "trusted": true,
        "id": "x2o1QGaSrY4E"
      },
      "execution_count": null,
      "outputs": []
    },
    {
      "cell_type": "code",
      "source": [
        "def calculate_distance(row): #Calculate the distance between a users rating and ours\n",
        "    our_rating = int(our_ratings[our_ratings.BGGId == row.BGGId].Rating)\n",
        "    return (int(row.Rating) - our_rating)**2"
      ],
      "metadata": {
        "execution": {
          "iopub.status.busy": "2023-01-02T18:28:14.420924Z",
          "iopub.execute_input": "2023-01-02T18:28:14.42177Z",
          "iopub.status.idle": "2023-01-02T18:28:14.442395Z",
          "shell.execute_reply.started": "2023-01-02T18:28:14.421711Z",
          "shell.execute_reply": "2023-01-02T18:28:14.4411Z"
        },
        "trusted": true,
        "id": "H7XZL_1FrY4E"
      },
      "execution_count": null,
      "outputs": []
    },
    {
      "cell_type": "markdown",
      "source": [
        "To get better suggestions and reduce some complexity, we will be excluding all users that did not rate at least $min(5, number \\; of \\; games \\; we \\; rated)$ of the games we rated."
      ],
      "metadata": {
        "id": "0kJFeZeTrY4E"
      }
    },
    {
      "cell_type": "code",
      "source": [
        "def likeminded_users(ratings, NumberOfSimilarUsers = 1000, NumUserRatings = 15, MaxPlaytime = 10000,\n",
        "                         AtleastPlayers = 0, MustLikeAll = False, MinVotes = 10): #Suggest new games based on likeminded users\n",
        "    #We only calculate the distance for Board Games that we rated. Therefore all others will be excluded\n",
        "    sub_ratings = user_ratings[user_ratings.BGGId.isin(our_ratings.BGGId.unique())]\n",
        "\n",
        "    #Next, we only want to compare to users that rated most of the games we rated\n",
        "    df_for_valuable_users = pd.DataFrame(sub_ratings.groupby('Username').BGGId.count() >= min(5, our_ratings.shape[0])).reset_index()\n",
        "    #Here we exclude all users that do not satisfy, having rated at least min(5, number of games we rated)\n",
        "    users_with_enough_ratings = df_for_valuable_users[df_for_valuable_users.BGGId == True].Username\n",
        "    #Finally we reduce the size of sub_ratings by excluding users\n",
        "    sub_ratings = sub_ratings[sub_ratings.Username.isin(users_with_enough_ratings)]\n",
        "\n",
        "    #Next, we calculate the Distance for all rows in sub_ratings\n",
        "    sub_ratings['Distance'] = sub_ratings.apply(lambda row: calculate_distance(row), axis = 1)\n",
        "    #Then we sort the Usernames based on their Distance ascendingly\n",
        "    smallest_distance = sub_ratings.groupby('Username').Distance.mean().sort_values()\n",
        "    #Finally we extract the top NumberOfSimilarUsers Usernames\n",
        "    like_minded_users = smallest_distance.head(n=NumberOfSimilarUsers).index\n",
        "\n",
        "    #In a final step, we use our suggest_games function to find the games like_minded_users rated highly\n",
        "    return finding_games(like_minded_users, NumUserRatings, MaxPlaytime,\n",
        "                         AtleastPlayers, MinVotes)"
      ],
      "metadata": {
        "execution": {
          "iopub.status.busy": "2023-01-02T18:28:14.444098Z",
          "iopub.execute_input": "2023-01-02T18:28:14.445087Z",
          "iopub.status.idle": "2023-01-02T18:28:14.456799Z",
          "shell.execute_reply.started": "2023-01-02T18:28:14.44504Z",
          "shell.execute_reply": "2023-01-02T18:28:14.456063Z"
        },
        "trusted": true,
        "id": "RtLOcXzgrY4F"
      },
      "execution_count": null,
      "outputs": []
    },
    {
      "cell_type": "markdown",
      "source": [
        "Finally we present the suggestions."
      ],
      "metadata": {
        "id": "Y4uLVVFmrY4F"
      }
    },
    {
      "cell_type": "code",
      "source": [
        "likeminded_users(our_ratings, MinVotes = 50)"
      ],
      "metadata": {
        "execution": {
          "iopub.status.busy": "2023-01-02T18:28:14.458128Z",
          "iopub.execute_input": "2023-01-02T18:28:14.459374Z",
          "iopub.status.idle": "2023-01-02T18:29:25.031633Z",
          "shell.execute_reply.started": "2023-01-02T18:28:14.459288Z",
          "shell.execute_reply": "2023-01-02T18:29:25.030701Z"
        },
        "trusted": true,
        "id": "kmcYzJbErY4F"
      },
      "execution_count": null,
      "outputs": []
    },
    {
      "cell_type": "markdown",
      "source": [
        "# Further Ideas\n",
        "\n",
        "At this point, we have implemented a very simple algorithm to find new Board Games based on other users. A future goal of mine will be to bring Machine Learning and Clustering into the equation to find new relevant factors in how to suggest new Board Games."
      ],
      "metadata": {
        "id": "h0dErtwxrY4F"
      }
    }
  ]
}