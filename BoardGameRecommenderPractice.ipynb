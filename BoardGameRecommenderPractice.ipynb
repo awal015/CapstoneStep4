{
  "metadata": {
    "kernelspec": {
      "name": "ir",
      "display_name": "R",
      "language": "R"
    },
    "language_info": {
      "name": "R",
      "codemirror_mode": "r",
      "pygments_lexer": "r",
      "mimetype": "text/x-r-source",
      "file_extension": ".r",
      "version": "4.0.5"
    },
    "kaggle": {
      "accelerator": "none",
      "dataSources": [
        {
          "sourceId": 3055483,
          "sourceType": "datasetVersion",
          "datasetId": 1870426
        }
      ],
      "dockerImageVersionId": 30139,
      "isInternetEnabled": false,
      "language": "r",
      "sourceType": "notebook",
      "isGpuEnabled": false
    },
    "colab": {
      "name": "BoardGameRecommenderPractice",
      "provenance": [],
      "include_colab_link": true
    }
  },
  "nbformat_minor": 0,
  "nbformat": 4,
  "cells": [
    {
      "cell_type": "markdown",
      "metadata": {
        "id": "view-in-github",
        "colab_type": "text"
      },
      "source": [
        "<a href=\"https://colab.research.google.com/github/awal015/CapstoneStep4/blob/main/BoardGameRecommenderPractice.ipynb\" target=\"_parent\"><img src=\"https://colab.research.google.com/assets/colab-badge.svg\" alt=\"Open In Colab\"/></a>"
      ]
    },
    {
      "source": [
        "\n",
        "# IMPORTANT: RUN THIS CELL IN ORDER TO IMPORT YOUR KAGGLE DATA SOURCES\n",
        "# TO THE CORRECT LOCATION (/kaggle/input) IN YOUR NOTEBOOK,\n",
        "# THEN FEEL FREE TO DELETE THIS CELL.\n",
        "# NOTE: THIS NOTEBOOK ENVIRONMENT DIFFERS FROM KAGGLE'S R\n",
        "# ENVIRONMENT SO THERE MAY BE MISSING LIBRARIES USED BY YOUR\n",
        "# NOTEBOOK.\n",
        "\n",
        "DATA_SOURCE_MAPPING = 'board-games-database-from-boardgamegeek:https%3A%2F%2Fstorage.googleapis.com%2Fkaggle-data-sets%2F1870426%2F3055483%2Fbundle%2Farchive.zip%3FX-Goog-Algorithm%3DGOOG4-RSA-SHA256%26X-Goog-Credential%3Dgcp-kaggle-com%2540kaggle-161607.iam.gserviceaccount.com%252F20241115%252Fauto%252Fstorage%252Fgoog4_request%26X-Goog-Date%3D20241115T211044Z%26X-Goog-Expires%3D259200%26X-Goog-SignedHeaders%3Dhost%26X-Goog-Signature%3D894464b0743907a1518e3a11808f8056fb808bfb899762045fbfd432f050f35f926228fc2e098f0b108e662db9dbf512dacf512731b04476bd631df4e3aa43cb4d8e3e716bee10683b5eca94576cc9df538f466db284ce8c476e4d14107240db1cd8ef085d884b031004bb3f743d3c04307ed1a3866f195f36d20d59cf413b77e90b5c1a92261c9322d067232e4c20ef53c465d0ae2f2a42cd7f9a101681c545f72efdc22f94b90f8664e0eee6ce593a40c7f9faca929c5c7b58f78450429eee6ea67142d8839cf28ea5c4dea2ec1fd8453a4ff84f28756e713008bbe45df11986c5e5e37a8fa592b1c323a7547f8b41fd3bee564b96b7e89c482008f20ea813'\n",
        "\n",
        "KAGGLE_INPUT_PATH = '/kaggle/input'\n",
        "KAGGLE_WORKING_PATH = '/kaggle/working'\n",
        "\n",
        "system(paste0('sudo umount ', '/kaggle/input'))\n",
        "system(paste0('sudo rmdir ', '/kaggle/input'))\n",
        "system(paste0('sudo mkdir -p -- ', KAGGLE_INPUT_PATH), intern=TRUE)\n",
        "system(paste0('sudo chmod 777 ', KAGGLE_INPUT_PATH), intern=TRUE)\n",
        "system(\n",
        "  paste0('sudo ln -sfn ', KAGGLE_INPUT_PATH,' ',file.path('..', 'input')),\n",
        "  intern=TRUE)\n",
        "\n",
        "system(paste0('sudo mkdir -p -- ', KAGGLE_WORKING_PATH), intern=TRUE)\n",
        "system(paste0('sudo chmod 777 ', KAGGLE_WORKING_PATH), intern=TRUE)\n",
        "system(\n",
        "  paste0('sudo ln -sfn ', KAGGLE_WORKING_PATH, ' ', file.path('..', 'working')),\n",
        "  intern=TRUE)\n",
        "\n",
        "data_source_mappings = strsplit(DATA_SOURCE_MAPPING, ',')[[1]]\n",
        "for (data_source_mapping in data_source_mappings) {\n",
        "    path_and_url = strsplit(data_source_mapping, ':')\n",
        "    directory = path_and_url[[1]][1]\n",
        "    download_url = URLdecode(path_and_url[[1]][2])\n",
        "    filename = sub(\"\\\\?.+\", \"\", download_url)\n",
        "    destination_path = file.path(KAGGLE_INPUT_PATH, directory)\n",
        "    print(paste0('Downloading and uncompressing: ', directory))\n",
        "    if (endsWith(filename, '.zip')){\n",
        "      temp = tempfile(fileext = '.zip')\n",
        "      download.file(download_url, temp)\n",
        "      unzip(temp, overwrite = TRUE, exdir = destination_path)\n",
        "      unlink(temp)\n",
        "    }\n",
        "    else{\n",
        "      temp = tempfile(fileext = '.tar')\n",
        "      download.file(download_url, temp)\n",
        "      untar(temp, exdir = destination_path)\n",
        "      unlink(temp)\n",
        "    }\n",
        "    print(paste0('Downloaded and uncompressed: ', directory))\n",
        "}\n",
        "\n",
        "print(paste0('Data source import complete'))\n"
      ],
      "metadata": {
        "id": "mTHvzSEQqgMD"
      },
      "cell_type": "code",
      "outputs": [],
      "execution_count": null
    },
    {
      "cell_type": "code",
      "source": [
        "# This R environment comes with many helpful analytics packages installed\n",
        "# It is defined by the kaggle/rstats Docker image: https://github.com/kaggle/docker-rstats\n",
        "# For example, here's a helpful package to load\n",
        "\n",
        "library(tidyverse) # metapackage of all tidyverse packages\n",
        "library(ggplot2)\n",
        "library(recommenderlab)\n",
        "\n",
        "# Input data files are available in the read-only \"../input/\" directory\n",
        "# For example, running this (by clicking run or pressing Shift+Enter) will list all files under the input directory\n",
        "\n",
        "list.files(path = \"../input\")\n",
        "\n",
        "# You can write up to 20GB to the current directory (/kaggle/working/) that gets preserved as output when you create a version using \"Save & Run All\"\n",
        "# You can also write temporary files to /kaggle/temp/, but they won't be saved outside of the current session"
      ],
      "metadata": {
        "_uuid": "051d70d956493feee0c6d64651c6a088724dca2a",
        "_execution_state": "idle",
        "execution": {
          "iopub.status.busy": "2022-03-15T15:34:01.623166Z",
          "iopub.execute_input": "2022-03-15T15:34:01.62496Z",
          "iopub.status.idle": "2022-03-15T15:34:02.711307Z"
        },
        "trusted": true,
        "id": "X2hDEokkqgMG"
      },
      "execution_count": null,
      "outputs": []
    },
    {
      "cell_type": "code",
      "source": [
        "user_ratings = read.csv('../input/board-games-database-from-boardgamegeek/user_ratings.csv')\n",
        "\n",
        "games = read.csv('../input/board-games-database-from-boardgamegeek/games.csv')\n"
      ],
      "metadata": {
        "execution": {
          "iopub.status.busy": "2022-03-15T15:34:02.713572Z",
          "iopub.execute_input": "2022-03-15T15:34:02.714918Z",
          "iopub.status.idle": "2022-03-15T15:34:40.458094Z"
        },
        "trusted": true,
        "id": "YBiPvR2OqgMH"
      },
      "execution_count": null,
      "outputs": []
    },
    {
      "cell_type": "code",
      "source": [
        "update = merge(user_ratings,games,by = 'BGGId')"
      ],
      "metadata": {
        "execution": {
          "iopub.status.busy": "2022-03-15T15:34:40.460489Z",
          "iopub.execute_input": "2022-03-15T15:34:40.461835Z",
          "iopub.status.idle": "2022-03-15T15:36:02.106709Z"
        },
        "trusted": true,
        "id": "JR-bh-z4qgMH"
      },
      "execution_count": null,
      "outputs": []
    },
    {
      "cell_type": "code",
      "source": [
        "test_data = update[,c('Name','Rating','Username')]"
      ],
      "metadata": {
        "execution": {
          "iopub.status.busy": "2022-03-15T15:36:02.109328Z",
          "iopub.execute_input": "2022-03-15T15:36:02.110844Z",
          "iopub.status.idle": "2022-03-15T15:36:02.123075Z"
        },
        "trusted": true,
        "id": "ry94Cp9HqgMI"
      },
      "execution_count": null,
      "outputs": []
    },
    {
      "cell_type": "code",
      "source": [
        "head(test_data)"
      ],
      "metadata": {
        "execution": {
          "iopub.status.busy": "2022-03-15T15:36:02.125635Z",
          "iopub.execute_input": "2022-03-15T15:36:02.127141Z",
          "iopub.status.idle": "2022-03-15T15:36:02.151249Z"
        },
        "trusted": true,
        "id": "So4Yy-rLqgMI"
      },
      "execution_count": null,
      "outputs": []
    },
    {
      "cell_type": "code",
      "source": [
        "data = test_data[,c(1,3,2)]"
      ],
      "metadata": {
        "execution": {
          "iopub.status.busy": "2022-03-15T15:36:02.153752Z",
          "iopub.execute_input": "2022-03-15T15:36:02.155202Z",
          "iopub.status.idle": "2022-03-15T15:36:02.167362Z"
        },
        "trusted": true,
        "id": "zQgPYp5sqgMI"
      },
      "execution_count": null,
      "outputs": []
    },
    {
      "cell_type": "code",
      "source": [
        "head(data)"
      ],
      "metadata": {
        "execution": {
          "iopub.status.busy": "2022-03-15T15:36:02.169969Z",
          "iopub.execute_input": "2022-03-15T15:36:02.171455Z",
          "iopub.status.idle": "2022-03-15T15:36:02.193184Z"
        },
        "trusted": true,
        "id": "PxPIBvCUqgMI"
      },
      "execution_count": null,
      "outputs": []
    },
    {
      "cell_type": "code",
      "source": [
        "data_matrix = as(data,Class = 'realRatingMatrix')"
      ],
      "metadata": {
        "execution": {
          "iopub.status.busy": "2022-03-15T15:36:03.731698Z",
          "iopub.execute_input": "2022-03-15T15:36:03.733602Z",
          "iopub.status.idle": "2022-03-15T15:36:14.768559Z"
        },
        "trusted": true,
        "id": "kyeo_SuSqgMJ"
      },
      "execution_count": null,
      "outputs": []
    },
    {
      "cell_type": "code",
      "source": [
        "#colMeans(data_matrix)"
      ],
      "metadata": {
        "execution": {
          "iopub.status.busy": "2022-03-15T15:36:14.771183Z",
          "iopub.execute_input": "2022-03-15T15:36:14.772701Z",
          "iopub.status.idle": "2022-03-15T15:36:14.78373Z"
        },
        "trusted": true,
        "id": "k-Qu03ZtqgMJ"
      },
      "execution_count": null,
      "outputs": []
    },
    {
      "cell_type": "code",
      "source": [
        "# image(data_matrix)"
      ],
      "metadata": {
        "execution": {
          "iopub.status.busy": "2022-03-15T15:36:14.786195Z",
          "iopub.execute_input": "2022-03-15T15:36:14.787637Z",
          "iopub.status.idle": "2022-03-15T15:36:14.798304Z"
        },
        "trusted": true,
        "id": "89CtFJVyqgMJ"
      },
      "execution_count": null,
      "outputs": []
    },
    {
      "cell_type": "code",
      "source": [
        "str(data_matrix)"
      ],
      "metadata": {
        "execution": {
          "iopub.status.busy": "2022-03-15T15:36:14.800788Z",
          "iopub.execute_input": "2022-03-15T15:36:14.802222Z",
          "iopub.status.idle": "2022-03-15T15:36:14.830173Z"
        },
        "trusted": true,
        "id": "c3OqdvkKqgMJ"
      },
      "execution_count": null,
      "outputs": []
    },
    {
      "cell_type": "code",
      "source": [
        "set.seed(6969)\n",
        "split = sample(x = nrow(data_matrix), size = 0.8*nrow(data_matrix))\n",
        "train = data_matrix[split,]\n",
        "test = data_matrix[-split,]"
      ],
      "metadata": {
        "execution": {
          "iopub.status.busy": "2022-03-15T15:36:14.832649Z",
          "iopub.execute_input": "2022-03-15T15:36:14.834105Z",
          "iopub.status.idle": "2022-03-15T15:36:18.294567Z"
        },
        "trusted": true,
        "id": "wP1RZRZNqgMJ"
      },
      "execution_count": null,
      "outputs": []
    },
    {
      "cell_type": "code",
      "source": [
        "summary(rowCounts(train))"
      ],
      "metadata": {
        "execution": {
          "iopub.status.busy": "2022-03-15T15:36:18.297199Z",
          "iopub.execute_input": "2022-03-15T15:36:18.298613Z",
          "iopub.status.idle": "2022-03-15T15:36:18.687698Z"
        },
        "trusted": true,
        "id": "PpIFS1YWqgMK"
      },
      "execution_count": null,
      "outputs": []
    },
    {
      "cell_type": "code",
      "source": [
        "#normalized\n",
        "#ggplot(data=data.frame(game_ratings = rowMeans(normalize(train))),aes(x=game_ratings))+\n",
        "#  geom_histogram(fill='sienna')"
      ],
      "metadata": {
        "execution": {
          "iopub.status.busy": "2022-03-15T15:36:18.690236Z",
          "iopub.execute_input": "2022-03-15T15:36:18.691663Z",
          "iopub.status.idle": "2022-03-15T15:36:23.414325Z"
        },
        "trusted": true,
        "id": "ITMPH8v6qgMK"
      },
      "execution_count": null,
      "outputs": []
    },
    {
      "cell_type": "code",
      "source": [
        "recom_popular = Recommender(train,\n",
        "                            method='POPULAR',\n",
        "                            parameter=list(normalize='center'))"
      ],
      "metadata": {
        "execution": {
          "iopub.status.busy": "2022-03-15T15:36:23.418195Z",
          "iopub.execute_input": "2022-03-15T15:36:23.419765Z",
          "iopub.status.idle": "2022-03-15T15:36:28.583917Z"
        },
        "trusted": true,
        "id": "poG5A3MhqgMK"
      },
      "execution_count": null,
      "outputs": []
    },
    {
      "cell_type": "code",
      "source": [
        "pred_popular_topN = predict(recom_popular,newdata=test,type='topNList',n=5)"
      ],
      "metadata": {
        "execution": {
          "iopub.status.busy": "2022-03-15T15:36:57.060459Z",
          "iopub.execute_input": "2022-03-15T15:36:57.095065Z",
          "iopub.status.idle": "2022-03-15T15:36:57.135445Z"
        },
        "trusted": true,
        "id": "_4xvR31SqgMK"
      },
      "execution_count": null,
      "outputs": []
    },
    {
      "cell_type": "code",
      "source": [
        "getList(pred_popular_topN)['Kartigan']"
      ],
      "metadata": {
        "trusted": true,
        "id": "c88dUQToqgMK"
      },
      "execution_count": null,
      "outputs": []
    },
    {
      "cell_type": "markdown",
      "source": [
        "Practicing recommender systems, working on getting past the prediction portion. Prediction model drains resources and forces a reboot. May be more practical in python."
      ],
      "metadata": {
        "id": "rTWWqC_hqgMK"
      }
    }
  ]
}